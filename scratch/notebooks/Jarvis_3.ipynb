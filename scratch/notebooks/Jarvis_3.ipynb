{
 "cells": [
  {
   "cell_type": "markdown",
   "source": [
    "Notion Page: https://www.notion.so/lavrovs/Generators-and-tags-design-98ad55d8aae2404bbb20e47da51dfbe6"
   ],
   "metadata": {
    "collapsed": false
   }
  },
  {
   "cell_type": "code",
   "execution_count": null,
   "outputs": [],
   "source": [
    "import logging\n",
    "\n",
    "from dev.notion_lib import Notion, NotionDB, NotionPage\n",
    "from notion_db_enums.db_anchor_enums import C_Type\n",
    "from scratch.parse_command import jarvis_command_parser\n",
    "from scratch.parse_command.jarvis_telegram_message_parser import notion_decorator"
   ],
   "metadata": {
    "collapsed": false,
    "pycharm": {
     "name": "#%%\n"
    }
   }
  },
  {
   "cell_type": "code",
   "execution_count": null,
   "metadata": {
    "collapsed": true
   },
   "outputs": [],
   "source": [
    "# desired usage\n",
    "\n",
    "\n",
    "def generator(target_db_id): #decorator marking a Jarvis command output of which is supposed to be a new\n",
    "    def decorator(func):\n",
    "    raise NotImplemented()\n",
    "    def wrapper(text, content, tags):\n",
    "        raise NotImplemented()\n",
    "    for tag in tags:\n",
    "        # process corre\n",
    "        raise NotImplemented(\"Process corresponding tags - apply the effects to the generated page\")\n",
    "        pass\n",
    "    notion_client.add(db=target_db_id) # adds page to specified db\n",
    "    return wrapper\n",
    "\n",
    "class Jarvis:\n",
    "\n",
    "    def __init__(self):\n",
    "        # todo\n",
    "        pass\n",
    "\n",
    "    @generator(notion_db_id)\n",
    "    def task\n"
   ]
  },
  {
   "cell_type": "code",
   "execution_count": 1,
   "outputs": [
    {
     "ename": "IndentationError",
     "evalue": "expected an indented block (3232417384.py, line 19)",
     "output_type": "error",
     "traceback": [
      "\u001B[0;36m  File \u001B[0;32m\"/var/folders/fk/k694k5yn3gv3kpgkrt2ftkyc0000gn/T/ipykernel_51932/3232417384.py\"\u001B[0;36m, line \u001B[0;32m19\u001B[0m\n\u001B[0;31m    def tag_source(item, )\u001B[0m\n\u001B[0m      ^\u001B[0m\n\u001B[0;31mIndentationError\u001B[0m\u001B[0;31m:\u001B[0m expected an indented block\n"
     ]
    }
   ],
   "source": [
    "# supported tag registry\n",
    "\n",
    "# idea: have a list of tags that do something to a page.\n",
    "# e.g.\n",
    "\n",
    "\n",
    "\n"
   ],
   "metadata": {
    "collapsed": false,
    "pycharm": {
     "name": "#%%\n"
    }
   }
  },
  {
   "cell_type": "code",
   "execution_count": null,
   "outputs": [],
   "source": [
    "# supported generators registry\n",
    "\n",
    "# todo: add. generic add\n",
    "# todo: all the\n",
    "def compose_block(content):\n",
    "    return {\n",
    "            \"object\": 'block',\n",
    "            \"type\": 'paragraph',\n",
    "            \"paragraph\": {\n",
    "                \"rich_text\": [\n",
    "                    {\n",
    "                        \"type\": 'text',\n",
    "                        \"text\": {\n",
    "                            \"content\": content,\n",
    "                        },\n",
    "                    },\n",
    "                ],\n",
    "            },\n",
    "        }\n",
    "\n",
    "def compose_item(name, content = None):\n",
    "    item = {'properties': ({\n",
    "                               \"Name\": {\n",
    "                                   \"title\": [\n",
    "                                       {\n",
    "                                           \"text\": {\n",
    "                                               \"content\": name,\n",
    "                                           },\n",
    "                                       },\n",
    "                                   ],\n",
    "                               },\n",
    "                           },)}\n",
    "    if content:\n",
    "        item['children']=[compose_block(line) for line in content.split('\\n')]\n",
    "    return item"
   ],
   "metadata": {
    "collapsed": false,
    "pycharm": {
     "name": "#%%\n"
    }
   }
  },
  {
   "cell_type": "code",
   "execution_count": null,
   "outputs": [],
   "source": [
    "from typing import List, Optional\n",
    "import telegram.ext\n",
    "def generator(commands: List[str]):\n",
    "    def wrapper(func):\n",
    "        # add func to registry\n",
    "        for command in commands:\n",
    "            Jarvis.generator_commands[command] = func.__name__\n",
    "        return func\n",
    "    return wrapper\n",
    "\n",
    "\n",
    "def tag_processor(commands):\n",
    "    def wrapper(func):\n",
    "        # add func to registry\n",
    "        for command in commands:\n",
    "            Jarvis.tag_processors[command] = func\n",
    "        return func\n",
    "    return wrapper\n",
    "\n",
    "@tag_processor([\"tag\"])\n",
    "def tag_metadata(item, value, column=None):\n",
    "\n",
    "\n",
    "class Jarvis:\n",
    "    generator_commands = dict()\n",
    "    tag_processors = dict()\n",
    "\n",
    "    def __init__(self, notion_token, telegram_token, telegram_input_token,\n",
    "                 db_todos, db_notes, db_bookmarks, db_logs, db_structured_logs, db_str, jarvis_env):\n",
    "        self.nc = Notion(token=notion_token)\n",
    "        self.telegram_token = telegram_token\n",
    "        self.telegram_input_token = telegram_input_token\n",
    "        # ---\n",
    "        self.db_todos = self.nc.get_db(db_todos)\n",
    "        self.db_notes = self.nc.get_db(db_notes)\n",
    "        self.db_bookmarks = self.nc.get_db(db_bookmarks)\n",
    "        self.db_logs = self.nc.get_db(db_logs)\n",
    "        self.db_structured_logs = self.nc.get_db(db_structured_logs)\n",
    "        self.db_str = self.nc.get_db(db_str)\n",
    "        # --\n",
    "        self.jarvis_env = jarvis_env\n",
    "\n",
    "    @generator(commands=['add'])\n",
    "    def add_item(self, name, tags, content=None,target_db: Optional[NotionDB]=None, core_type:Optional[C_Type]=None):\n",
    "        # compose item\n",
    "        item = compose_item(name=name, content=content)\n",
    "        # todo: apply tags\n",
    "        for tag in tags:\n",
    "            if tag not in Jarvis.tag_processors:\n",
    "                # raise RuntimeError(f\"Unsupported tag: {tag}\")\n",
    "                logging.warning(f\"Unsupported tag: {tag}\", conxtex=)\n",
    "                continue\n",
    "                # todo: catch errors outside and add logging\n",
    "            # check\n",
    "\n",
    "        if target_db is None:\n",
    "            # todo: mark page as untagged - for future processing\n",
    "            target_db = self.db_todos\n",
    "        target_db.add(item)\n",
    "        # todo: add logging\n",
    "        return # reply to the user.\n",
    "\n",
    "    @generator(['todo','task'])\n",
    "    def add_task(self, name, tags: dict, content=None):\n",
    "        return self.add_item(name=name, tags=tags,content=content,target_db=self.db_todos,core_type=C_Type.Todo)\n",
    "\n",
    "    @generator(['idea'])\n",
    "    def add_idea(self, name, tags: dict, content=None):\n",
    "        return self.add_item(name=name, tags=tags,content=content,target_db=self.db_todos,core_type=C_Type.Idea)\n",
    "\n",
    "\n",
    "    # ----------------------\n",
    "    # Tags\n",
    "\n",
    "    @tag_processor(['link','expose_to'])\n",
    "    def tag_link(self, item, query):\n",
    "        #todo: find page. what db? notion client\n",
    "\n",
    "        # add metadata\n",
    "        #\n",
    "\n",
    "    @tag_processor(['who','source'])\n",
    "    def tag_source(self, item, query):\n",
    "        # find a person\n",
    "\n",
    "\n",
    "    def run(self):\n",
    "        jarvis_output = telegram.ext.Updater(self.telegram_token)\n",
    "        jarvis_input = telegram.ext.Updater(self.telegram_input_token)\n",
    "\n",
    "        # wire everything up\n",
    "        for generator_command, func_name in Jarvis.generator_commands.items():\n",
    "            func = self.__getattribute__(func_name)\n",
    "            func = notion_decorator(func) #todo: rename to parse_telegram_command_decorator @akudrinskiy\n",
    "            handler = telegram.ext.CommandHandler(generator_command, func)\n",
    "            jarvis_input.dispatcher.add_handler(handler)\n",
    "\n",
    "        raise NotImplemented()\n",
    "\n",
    "        # connect to telegram\n",
    "        # register handlers"
   ],
   "metadata": {
    "collapsed": false,
    "pycharm": {
     "name": "#%%\n"
    }
   }
  },
  {
   "cell_type": "code",
   "execution_count": null,
   "outputs": [],
   "source": [
    "from defaultenv import env\n",
    "jarvis = Jarvis(\n",
    "    notion_token=env(\"JARVIS_NOTION_TOKEN\"),\n",
    "    telegram_token=env(\"JARVIS_TELEGRAM_TOKEN\"),\n",
    "    telegram_input_token=env(\"JARVIS_TELEGRAM_INPUT_TOKEN\"),\n",
    "    db_todos=env(\"JARVIS_DB_TODOS\"),\n",
    "    db_notes=env(\"JARVIS_DB_NOTES\"),\n",
    "    db_bookmarks=env(\"JARVIS_DB_BOOKMARKS\"),\n",
    "    db_logs=env(\"JARVIS_SIMPLE_LOG_TABLE\"),\n",
    "    db_structured_logs=env(\"JARVIS_STUCTURED_LOG_TABLE\"),\n",
    "    db_str=env(\"JARVIS_NOTION_TOKEN\"),\n",
    "    jarvis_env=env(\"JARVIS_ENV\")\n",
    "\n",
    ")"
   ],
   "metadata": {
    "collapsed": false,
    "pycharm": {
     "name": "#%%\n"
    }
   }
  },
  {
   "cell_type": "code",
   "execution_count": 2,
   "outputs": [
    {
     "name": "stdout",
     "output_type": "stream",
     "text": [
      "atr\n",
      "atr\n"
     ]
    }
   ],
   "source": [
    "class T:\n",
    "    def atr(self):\n",
    "        pass\n",
    "print(T.atr.__name__)\n",
    "t = T()\n",
    "print(t.atr.__name__)"
   ],
   "metadata": {
    "collapsed": false,
    "pycharm": {
     "name": "#%%\n"
    }
   }
  },
  {
   "cell_type": "code",
   "execution_count": null,
   "outputs": [],
   "source": [],
   "metadata": {
    "collapsed": false,
    "pycharm": {
     "name": "#%%\n"
    }
   }
  }
 ],
 "metadata": {
  "kernelspec": {
   "display_name": "Python 3",
   "language": "python",
   "name": "python3"
  },
  "language_info": {
   "codemirror_mode": {
    "name": "ipython",
    "version": 2
   },
   "file_extension": ".py",
   "mimetype": "text/x-python",
   "name": "python",
   "nbconvert_exporter": "python",
   "pygments_lexer": "ipython2",
   "version": "2.7.6"
  }
 },
 "nbformat": 4,
 "nbformat_minor": 0
}