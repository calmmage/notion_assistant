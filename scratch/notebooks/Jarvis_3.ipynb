{
 "cells": [
  {
   "cell_type": "markdown",
   "source": [
    "Notion Page: https://www.notion.so/lavrovs/Generators-and-tags-design-98ad55d8aae2404bbb20e47da51dfbe6"
   ],
   "metadata": {
    "collapsed": false
   }
  },
  {
   "cell_type": "code",
   "execution_count": null,
   "outputs": [],
   "source": [
    "import logging\n",
    "\n",
    "from dev.notion_lib import Notion, NotionDB, NotionPage\n",
    "from notion_db_enums.db_anchor_enums import C_Type\n",
    "from scratch.parse_command import jarvis_command_parser\n",
    "from scratch.parse_command.jarvis_telegram_message_parser import parse_telegram_command_decorator"
   ],
   "metadata": {
    "collapsed": false,
    "pycharm": {
     "name": "#%%\n"
    }
   }
  },
  {
   "cell_type": "code",
   "execution_count": null,
   "metadata": {
    "collapsed": true
   },
   "outputs": [],
   "source": [
    "# desired usage\n",
    "\n",
    "\n",
    "def generator(target_db_id): #decorator marking a Jarvis command output of which is supposed to be a new\n",
    "    def decorator(func):\n",
    "    raise NotImplemented()\n",
    "    def wrapper(text, content, tags):\n",
    "        raise NotImplemented()\n",
    "    for tag in tags:\n",
    "        # process corre\n",
    "        raise NotImplemented(\"Process corresponding tags - apply the effects to the generated page\")\n",
    "        pass\n",
    "    notion_client.add(db=target_db_id) # adds page to specified db\n",
    "    return wrapper\n",
    "\n",
    "class Jarvis:\n",
    "\n",
    "    def __init__(self):\n",
    "        # todo\n",
    "        pass\n",
    "\n",
    "    @generator(notion_db_id)\n",
    "    def task\n"
   ]
  },
  {
   "cell_type": "code",
   "execution_count": 1,
   "outputs": [
    {
     "ename": "IndentationError",
     "evalue": "expected an indented block (3232417384.py, line 19)",
     "output_type": "error",
     "traceback": [
      "\u001B[0;36m  File \u001B[0;32m\"/var/folders/fk/k694k5yn3gv3kpgkrt2ftkyc0000gn/T/ipykernel_51932/3232417384.py\"\u001B[0;36m, line \u001B[0;32m19\u001B[0m\n\u001B[0;31m    def tag_source(item, )\u001B[0m\n\u001B[0m      ^\u001B[0m\n\u001B[0;31mIndentationError\u001B[0m\u001B[0;31m:\u001B[0m expected an indented block\n"
     ]
    }
   ],
   "source": [
    "# supported tag registry\n",
    "\n",
    "# idea: have a list of tags that do something to a page.\n",
    "# e.g.\n",
    "\n",
    "\n",
    "\n"
   ],
   "metadata": {
    "collapsed": false,
    "pycharm": {
     "name": "#%%\n"
    }
   }
  },
  {
   "cell_type": "code",
   "execution_count": null,
   "outputs": [],
   "source": [],
   "metadata": {
    "collapsed": false,
    "pycharm": {
     "name": "#%%\n"
    }
   }
  },
  {
   "cell_type": "code",
   "execution_count": null,
   "outputs": [],
   "source": [],
   "metadata": {
    "collapsed": false,
    "pycharm": {
     "name": "#%%\n"
    }
   }
  },
  {
   "cell_type": "code",
   "execution_count": null,
   "outputs": [],
   "source": [],
   "metadata": {
    "collapsed": false,
    "pycharm": {
     "name": "#%%\n"
    }
   }
  },
  {
   "cell_type": "code",
   "execution_count": 2,
   "outputs": [
    {
     "name": "stdout",
     "output_type": "stream",
     "text": [
      "atr\n",
      "atr\n"
     ]
    }
   ],
   "source": [],
   "metadata": {
    "collapsed": false,
    "pycharm": {
     "name": "#%%\n"
    }
   }
  },
  {
   "cell_type": "code",
   "execution_count": null,
   "outputs": [],
   "source": [],
   "metadata": {
    "collapsed": false,
    "pycharm": {
     "name": "#%%\n"
    }
   }
  }
 ],
 "metadata": {
  "kernelspec": {
   "display_name": "Python 3",
   "language": "python",
   "name": "python3"
  },
  "language_info": {
   "codemirror_mode": {
    "name": "ipython",
    "version": 2
   },
   "file_extension": ".py",
   "mimetype": "text/x-python",
   "name": "python",
   "nbconvert_exporter": "python",
   "pygments_lexer": "ipython2",
   "version": "2.7.6"
  }
 },
 "nbformat": 4,
 "nbformat_minor": 0
}