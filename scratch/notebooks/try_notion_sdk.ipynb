{
 "cells": [
  {
   "cell_type": "code",
   "execution_count": 2,
   "metadata": {
    "collapsed": true
   },
   "outputs": [],
   "source": [
    "import os\n",
    "from notion_client import Client\n",
    "\n",
    "from pathlib import Path\n",
    "secrets_path = Path('/Users/calm/home/notion_assistant/scratch/telegram_bot_example/secrets.json')\n",
    "import json\n",
    "secrets = json.load(secrets_path.open())\n",
    "\n",
    "notion = Client(auth=secrets[\"notion_token\"])\n",
    "# os.environ[\"NOTION_TOKEN\"]"
   ]
  },
  {
   "cell_type": "code",
   "execution_count": null,
   "outputs": [],
   "source": [
    "dir(notion)\n",
    "# core:\n",
    "# 'blocks',\n",
    "# 'databases',\n",
    "# 'pages',\n",
    "\n",
    "# extra\n",
    "# 'users'\n",
    "# 'search',\n",
    "\n",
    "# util\n",
    "# 'client',\n",
    "# 'close',\n",
    "# 'logger',\n",
    "# 'options',\n",
    "# 'request',"
   ],
   "metadata": {
    "collapsed": false,
    "pycharm": {
     "name": "#%%\n",
     "is_executing": true
    }
   }
  },
  {
   "cell_type": "code",
   "execution_count": null,
   "outputs": [],
   "source": [
    "# Adapt Notion client for interactive usage in ipython/jupyter\n",
    "# todo: want to do dot-access\n",
    "# for pages, databases, properties\n",
    "# todo: map of the notion.\n",
    "# some visual overview of pages, estimate size visualisation"
   ],
   "metadata": {
    "collapsed": false,
    "pycharm": {
     "name": "#%%\n"
    }
   }
  },
  {
   "cell_type": "code",
   "execution_count": null,
   "outputs": [],
   "source": [
    "from pprint import pprint\n",
    "\n",
    "list_users_response = notion.users.list()\n",
    "pprint(list_users_response)"
   ],
   "metadata": {
    "collapsed": false,
    "pycharm": {
     "name": "#%%\n",
     "is_executing": true
    }
   }
  },
  {
   "cell_type": "code",
   "execution_count": null,
   "outputs": [],
   "source": [],
   "metadata": {
    "collapsed": false,
    "pycharm": {
     "name": "#%%\n"
    }
   }
  }
 ],
 "metadata": {
  "kernelspec": {
   "display_name": "Python 3",
   "language": "python",
   "name": "python3"
  },
  "language_info": {
   "codemirror_mode": {
    "name": "ipython",
    "version": 2
   },
   "file_extension": ".py",
   "mimetype": "text/x-python",
   "name": "python",
   "nbconvert_exporter": "python",
   "pygments_lexer": "ipython2",
   "version": "2.7.6"
  }
 },
 "nbformat": 4,
 "nbformat_minor": 0
}