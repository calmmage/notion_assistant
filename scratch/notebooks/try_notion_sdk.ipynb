{
 "cells": [
  {
   "cell_type": "code",
   "execution_count": 2,
   "metadata": {
    "collapsed": true
   },
   "outputs": [],
   "source": [
    "import os\n",
    "from notion_client import Client\n",
    "\n",
    "from pathlib import Path\n",
    "secrets_path = Path('/Users/calm/home/notion_assistant/scratch/telegram_bot_example/secrets.json')\n",
    "import json\n",
    "secrets = json.load(secrets_path.open())\n",
    "\n",
    "notion = Client(auth=secrets[\"notion_token\"])\n",
    "# os.environ[\"NOTION_TOKEN\"]"
   ]
  },
  {
   "cell_type": "code",
   "execution_count": 4,
   "outputs": [
    {
     "data": {
      "text/plain": "['__annotations__',\n '__class__',\n '__delattr__',\n '__dict__',\n '__dir__',\n '__doc__',\n '__enter__',\n '__eq__',\n '__exit__',\n '__format__',\n '__ge__',\n '__getattribute__',\n '__gt__',\n '__hash__',\n '__init__',\n '__init_subclass__',\n '__le__',\n '__lt__',\n '__module__',\n '__ne__',\n '__new__',\n '__reduce__',\n '__reduce_ex__',\n '__repr__',\n '__setattr__',\n '__sizeof__',\n '__str__',\n '__subclasshook__',\n '__weakref__',\n '_build_request',\n '_clients',\n '_parse_response',\n 'blocks',\n 'client',\n 'close',\n 'databases',\n 'logger',\n 'options',\n 'pages',\n 'request',\n 'search',\n 'users']"
     },
     "execution_count": 4,
     "metadata": {},
     "output_type": "execute_result"
    }
   ],
   "source": [
    "dir(notion)\n",
    "# core:\n",
    "# 'blocks',\n",
    "# 'databases',\n",
    "# 'pages',\n",
    "\n",
    "# extra\n",
    "# 'users'\n",
    "# 'search',\n",
    "\n",
    "# util\n",
    "# 'client',\n",
    "# 'close',\n",
    "# 'logger',\n",
    "# 'options',\n",
    "# 'request',"
   ],
   "metadata": {
    "collapsed": false,
    "pycharm": {
     "name": "#%%\n"
    }
   }
  },
  {
   "cell_type": "code",
   "execution_count": 5,
   "outputs": [
    {
     "name": "stdout",
     "output_type": "stream",
     "text": [
      "{'has_more': False,\n",
      " 'next_cursor': None,\n",
      " 'object': 'list',\n",
      " 'results': [{'avatar_url': 'https://lh3.googleusercontent.com/a-/AOh14GgYCu7wn5aRDSHlh6k8K4MrCtilu9aQ-io-iHgn6w=s100',\n",
      "              'id': 'd0643a1e-565f-436c-9f25-e153ed140d34',\n",
      "              'name': 'Petr Lavrov',\n",
      "              'object': 'user',\n",
      "              'person': {'email': 'msuorange@gmail.com'},\n",
      "              'type': 'person'},\n",
      "             {'avatar_url': 'https://lh3.googleusercontent.com/a-/AOh14Gi3sjY_qgvOLDNg0-_xQL54IuwJ8V4A8BhkPQK9=s100',\n",
      "              'id': '19ed5364-4707-461c-8e96-f6d12693f568',\n",
      "              'name': 'Anna Lavrova',\n",
      "              'object': 'user',\n",
      "              'person': {'email': 'annalavrova.ru@gmail.com'},\n",
      "              'type': 'person'},\n",
      "             {'avatar_url': None,\n",
      "              'bot': {'owner': {'type': 'workspace', 'workspace': True}},\n",
      "              'id': 'f4c83ed9-f786-43ed-8e2d-b11441d29753',\n",
      "              'name': 'Notion Assistant',\n",
      "              'object': 'user',\n",
      "              'type': 'bot'}],\n",
      " 'type': 'user',\n",
      " 'user': {}}\n"
     ]
    }
   ],
   "source": [
    "from pprint import pprint\n",
    "\n",
    "list_users_response = notion.users.list()\n",
    "pprint(list_users_response)"
   ],
   "metadata": {
    "collapsed": false,
    "pycharm": {
     "name": "#%%\n"
    }
   }
  },
  {
   "cell_type": "markdown",
   "source": [],
   "metadata": {
    "collapsed": false
   }
  }
 ],
 "metadata": {
  "kernelspec": {
   "display_name": "Python 3",
   "language": "python",
   "name": "python3"
  },
  "language_info": {
   "codemirror_mode": {
    "name": "ipython",
    "version": 2
   },
   "file_extension": ".py",
   "mimetype": "text/x-python",
   "name": "python",
   "nbconvert_exporter": "python",
   "pygments_lexer": "ipython2",
   "version": "2.7.6"
  }
 },
 "nbformat": 4,
 "nbformat_minor": 0
}