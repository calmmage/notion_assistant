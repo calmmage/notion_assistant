{
 "cells": [
  {
   "cell_type": "code",
   "execution_count": 16,
   "metadata": {
    "collapsed": true
   },
   "outputs": [],
   "source": [
    "import os\n",
    "from notion_client import Client\n",
    "\n",
    "from pathlib import Path\n",
    "secrets_path = Path('../../secrets.json')\n",
    "import json\n",
    "secrets = json.load(secrets_path.open())\n",
    "\n",
    "notion = Client(auth=secrets[\"notion_token\"])\n",
    "# os.environ[\"NOTION_TOKEN\"]"
   ]
  },
  {
   "cell_type": "code",
   "execution_count": 21,
   "outputs": [],
   "source": [
    "def get_enums_from_db(notion_client: Client, db_id: str) -> dict:\n",
    "    response = notion_client.databases.retrieve(db_id)\n",
    "    cols_and_enums = {}\n",
    "\n",
    "    for db_column in response['properties']:\n",
    "        if response['properties'][db_column]['type'] != 'select':\n",
    "            continue\n",
    "\n",
    "        this_column_enums = [opt['name'] for opt in response['properties'][db_column]['select']['options']]\n",
    "        cols_and_enums[db_column] = this_column_enums\n",
    "\n",
    "    return cols_and_enums"
   ],
   "metadata": {
    "collapsed": false,
    "pycharm": {
     "name": "#%%\n"
    }
   }
  },
  {
   "cell_type": "code",
   "execution_count": 22,
   "outputs": [
    {
     "data": {
      "text/plain": "{'S_Status': ['Cancelled', 'Done', 'In progress', 'Focus', 'Todo'],\n 'S_Priority': ['1 - Lowest',\n  '2 - Low',\n  '3 - Medium',\n  '4 - High',\n  '5 - Highest'],\n 'C_Type': ['Disposable', 'Idea', 'Todo', 'Context/Project', 'App/Process'],\n 'S_Area': ['Home',\n  'Work',\n  'Wellbeing',\n  'For Others',\n  'Meta',\n  'Life',\n  'Unclear']}"
     },
     "execution_count": 22,
     "metadata": {},
     "output_type": "execute_result"
    }
   ],
   "source": [
    "get_enums_from_db(notion, \"2290411c436848479b4826e63d740c63\")"
   ],
   "metadata": {
    "collapsed": false,
    "pycharm": {
     "name": "#%%\n"
    }
   }
  },
  {
   "cell_type": "code",
   "execution_count": 8,
   "outputs": [
    {
     "data": {
      "text/plain": "['__annotations__',\n '__class__',\n '__delattr__',\n '__dict__',\n '__dir__',\n '__doc__',\n '__enter__',\n '__eq__',\n '__exit__',\n '__format__',\n '__ge__',\n '__getattribute__',\n '__gt__',\n '__hash__',\n '__init__',\n '__init_subclass__',\n '__le__',\n '__lt__',\n '__module__',\n '__ne__',\n '__new__',\n '__reduce__',\n '__reduce_ex__',\n '__repr__',\n '__setattr__',\n '__sizeof__',\n '__str__',\n '__subclasshook__',\n '__weakref__',\n '_build_request',\n '_clients',\n '_parse_response',\n 'blocks',\n 'client',\n 'close',\n 'databases',\n 'logger',\n 'options',\n 'pages',\n 'request',\n 'search',\n 'users']"
     },
     "execution_count": 8,
     "metadata": {},
     "output_type": "execute_result"
    }
   ],
   "source": [
    "dir(notion)\n",
    "# core:\n",
    "# 'blocks',\n",
    "# 'databases',\n",
    "# 'pages',\n",
    "\n",
    "# extra\n",
    "# 'users'\n",
    "# 'search',\n",
    "\n",
    "# util\n",
    "# 'client',\n",
    "# 'close',\n",
    "# 'logger',\n",
    "# 'options',\n",
    "# 'request',"
   ],
   "metadata": {
    "collapsed": false,
    "pycharm": {
     "name": "#%%\n"
    }
   }
  },
  {
   "cell_type": "code",
   "execution_count": 9,
   "outputs": [
    {
     "name": "stdout",
     "output_type": "stream",
     "text": [
      "{'has_more': False,\n",
      " 'next_cursor': None,\n",
      " 'object': 'list',\n",
      " 'results': [{'avatar_url': 'https://lh3.googleusercontent.com/a-/AOh14Gg-JVZkmndlT5LxFr7_ga9PMqvJZO_I-la7WKSr=s100',\n",
      "              'id': 'e9b72d56-3d3b-4345-a7a7-5e11981d310a',\n",
      "              'name': 'Alexey Kudrinsky',\n",
      "              'object': 'user',\n",
      "              'person': {'email': 'kudrinskii.am@phystech.edu'},\n",
      "              'type': 'person'},\n",
      "             {'avatar_url': None,\n",
      "              'bot': {'owner': {'type': 'workspace', 'workspace': True}},\n",
      "              'id': '8e9aec63-a339-44fe-b68a-4e555f5145de',\n",
      "              'name': 'Test integration',\n",
      "              'object': 'user',\n",
      "              'type': 'bot'}],\n",
      " 'type': 'user',\n",
      " 'user': {}}\n"
     ]
    }
   ],
   "source": [
    "from pprint import pprint\n",
    "\n",
    "list_users_response = notion.users.list()\n",
    "pprint(list_users_response)"
   ],
   "metadata": {
    "collapsed": false,
    "pycharm": {
     "name": "#%%\n"
    }
   }
  },
  {
   "cell_type": "markdown",
   "source": [],
   "metadata": {
    "collapsed": false
   }
  }
 ],
 "metadata": {
  "kernelspec": {
   "display_name": "Python 3",
   "language": "python",
   "name": "python3"
  },
  "language_info": {
   "codemirror_mode": {
    "name": "ipython",
    "version": 2
   },
   "file_extension": ".py",
   "mimetype": "text/x-python",
   "name": "python",
   "nbconvert_exporter": "python",
   "pygments_lexer": "ipython2",
   "version": "2.7.6"
  }
 },
 "nbformat": 4,
 "nbformat_minor": 0
}