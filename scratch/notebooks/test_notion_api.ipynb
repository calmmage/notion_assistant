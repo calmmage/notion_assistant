{
 "cells": [
  {
   "cell_type": "code",
   "execution_count": 1,
   "id": "f87d0431",
   "metadata": {
    "ExecuteTime": {
     "end_time": "2022-05-02T21:41:26.125452Z",
     "start_time": "2022-05-02T21:41:26.106341Z"
    }
   },
   "outputs": [],
   "source": [
    "from pathlib import Path\n",
    "secrets_path = Path('/Users/calm/home/notion_assistant/scratch/telegram_bot_example/secrets.json')\n",
    "import json\n",
    "secrets = json.load(secrets_path.open())"
   ]
  },
  {
   "cell_type": "code",
   "execution_count": 2,
   "id": "ff0f48a9",
   "metadata": {
    "ExecuteTime": {
     "end_time": "2022-05-02T21:41:27.372445Z",
     "start_time": "2022-05-02T21:41:27.083423Z"
    }
   },
   "outputs": [],
   "source": [
    "import requests, json\n",
    "import datetime"
   ]
  },
  {
   "cell_type": "code",
   "execution_count": 3,
   "id": "861c7bbd",
   "metadata": {
    "ExecuteTime": {
     "end_time": "2022-05-02T21:41:30.353164Z",
     "start_time": "2022-05-02T21:41:30.343085Z"
    },
    "code_folding": [
     14
    ]
   },
   "outputs": [],
   "source": [
    "# actionable_db_url\n",
    "# notes_db_url = \n",
    "\n",
    "# prod: DB_Actionable\n",
    "# todos_database = 'https://www.notion.so/lavrovs/2290411c436848479b4826e63d740c63?v=f50c1eebf2ba4441a922d523587b6b66'\n",
    "\n",
    "# test: DB_test_notion_assistant\n",
    "todos_database_url = 'https://www.notion.so/lavrovs/d96416324b44433a9d378f0767627301?v=877e567e513a4583b9e4614d1b059ba1'\n",
    "\n",
    "\n",
    "# --------------------------------------\n",
    "# utils\n",
    "# --------------------------------------\n",
    "\n",
    "def extract_database_id(database_link):\n",
    "    \"\"\"\n",
    "    :param database_link: url to the database page\n",
    "    :type database_link: str\n",
    "    :return: Id of the database for use in Notion API\n",
    "    \"\"\"\n",
    "    return database_link.rsplit('/', 1)[-1].split('?', 1)[0]\n",
    "\n",
    "# def get_db_id(db_url):\n",
    "#     return "
   ]
  },
  {
   "cell_type": "code",
   "execution_count": 39,
   "id": "8e5015f1",
   "metadata": {
    "ExecuteTime": {
     "end_time": "2022-05-02T22:34:08.935239Z",
     "start_time": "2022-05-02T22:34:08.907277Z"
    },
    "code_folding": [
     32,
     36,
     40,
     125
    ]
   },
   "outputs": [],
   "source": [
    "\n",
    "    \n",
    "def get_database(database_id, headers):\n",
    "    url = f\"https://api.notion.com/v1/databases/{database_id}\"\n",
    "    res = requests.request(\"GET\", url, headers = headers).json()\n",
    "    return res\n",
    "    \n",
    "\n",
    "def get_page(page_id, headers):\n",
    "    url = f\"https://api.notion.com/v1/pages/{page_id}\"\n",
    "    res = requests.request(\"GET\", url, headers = headers).json()\n",
    "    return res\n",
    "    \n",
    "def get_database_pages(database_id, headers):\n",
    "    url = f\"https://api.notion.com/v1/databases/{database_id}/query\"\n",
    "    res = requests.request(\"POST\", url, headers = headers).json()\n",
    "    \n",
    "    data = res\n",
    "    while res['has_more']:\n",
    "        res = requests.request(\"POST\", metadata_request_url, next_cursor=res['next_cursor'], headers = self.workspace.headers).json()\n",
    "        data['results'] += res['results']\n",
    "        \n",
    "    return data\n",
    "\n",
    "def create_page(data, headers):\n",
    "    CREATE_URL = 'https://api.notion.com/v1/pages'\n",
    "    \n",
    "    data = json.dumps(data)\n",
    "    res = requests.request(\"POST\", CREATE_URL, headers=headers, data=data)\n",
    "    return res\n",
    "\n",
    "class NotionWorkspace:\n",
    "    def __init__(self, token):\n",
    "        self.token = token\n",
    "    \n",
    "    # \n",
    "    def show_map(self, depth=2):\n",
    "        raise NotImplemented(\"Display structure of a page\")\n",
    "\n",
    "    @property\n",
    "    def headers(self):\n",
    "         return {\n",
    "            \"Authorization\": \"Bearer \" + self.token,\n",
    "            \"Content-Type\": \"application/json\",\n",
    "            \"Notion-Version\": \"2022-02-22\" # todo: figure out notion version.\n",
    "        }\n",
    "    #     def __getattr__(self, key):\n",
    "    #         # todo: support database dot access\n",
    "    #         pass\n",
    "\n",
    "    #     def __dir__(self):\n",
    "    #         # todo: show all available databases\n",
    "    #         pass\n",
    "\n",
    "    # ------------------\n",
    "    # getting a database\n",
    "    # ------------------\n",
    "    \n",
    "    # core: get database by id.\n",
    "    \n",
    "    # todo: find database by name\n",
    "    def get_page(self, page_id):\n",
    "        return get_page(page_id, self.headers)\n",
    "\n",
    "class NotionDB:\n",
    "    def __init__(self, database_id: str, workspace: NotionWorkspace):\n",
    "        self.database_id = database_id\n",
    "        self.workspace = workspace\n",
    "        \n",
    "        #get metadata\n",
    "        self.metadata = get_database(self.database_id, self.workspace.headers)\n",
    "        \n",
    "    @property\n",
    "    def name(self):\n",
    "        raise NotImplemented(\"Get a name of a database\")\n",
    "    \n",
    "    def load_all_pages(self):\n",
    "        self._load_pages()\n",
    "    \n",
    "    def _load_pages(self, limit=None):\n",
    "        # todo: support pagination for more pages.\n",
    "        self.data = get_database_pages(self.database_id, self.workspace.headers)\n",
    "#         print(res.status_code)\n",
    "        # print(res.text)\n",
    "\n",
    "#         with open('./db.json', 'w', encoding='utf8') as f:\n",
    "#             json.dump(data, f, ensure_ascii=False)\n",
    "    \n",
    "    @property\n",
    "    def schema(self):\n",
    "        return self.metadata['properties']\n",
    "    \n",
    "    def _verify_properties(self, properties):\n",
    "        # verify keys\n",
    "        for key in properties:\n",
    "            assert key in self.schema\n",
    "        # todo: verify values\n",
    "        \n",
    "    def format_value(self, key, value):\n",
    "        if self.schema[key]['type'] in {'title', 'rich_text'}:\n",
    "            return [{\"text\": { \"content\": value}}]\n",
    "        else:\n",
    "            raise NotImplemented(\"\")\n",
    "    \n",
    "    def create_page(self, **properties):\n",
    "        # todo: verify that properties \n",
    "        self._verify_properties(properties)\n",
    "\n",
    "        # format properties\n",
    "        request_properties = {}\n",
    "        for key, value in properties.items():\n",
    "            request_properties[key] = {\n",
    "                self.schema[key]['type']: self.format_value(key, value)\n",
    "            }\n",
    "            \n",
    "        new_page_data = {\n",
    "            \"parent\": { \"database_id\": self.database_id },\n",
    "            \"properties\": request_properties\n",
    "        }\n",
    "\n",
    "        res = create_page(new_page_data, self.workspace.headers)\n",
    "\n",
    "        print(res.status_code)\n",
    "        print(res.text)\n",
    "        \n",
    "    def update_page(self):\n",
    "        updateUrl = f\"https://api.notion.com/v1/pages/{pageId}\"\n",
    "\n",
    "        updateData = {\n",
    "            \"properties\": {\n",
    "                \"Value\": {\n",
    "                    \"rich_text\": [\n",
    "                        {\n",
    "                            \"text\": {\n",
    "                                \"content\": \"Pretty Good\"\n",
    "                            }\n",
    "                        }\n",
    "                    ]\n",
    "                }        \n",
    "            }\n",
    "        }\n",
    "\n",
    "        data = json.dumps(updateData)\n",
    "\n",
    "        response = requests.request(\"PATCH\", updateUrl, headers=headers, data=data)\n",
    "\n",
    "        print(response.status_code)\n",
    "        print(response.text)\n",
    "        \n",
    "    def get_properties(self):\n",
    "        raise NotImplemented(\"Return dict with db structure\")\n",
    "        \n",
    "    def show_properties(self):\n",
    "        raise NotImplemented(\"Todo: display structure of a database in a comprehensive way\")\n",
    "        \n",
    "        \n",
    "class NotionPage:\n",
    "    def __init__(self, page_id: str, database: NotionDB or str = None, workspace=None):\n",
    "        self.page_id = page_id\n",
    "        self.database = database\n",
    "    \n",
    "    def __dir__(self):\n",
    "        # todo: autocomplete page properties names from database structure\n",
    "        pass\n"
   ]
  },
  {
   "cell_type": "code",
   "execution_count": null,
   "id": "665fa770",
   "metadata": {
    "code_folding": [
     3,
     48
    ]
   },
   "outputs": [],
   "source": []
  },
  {
   "cell_type": "code",
   "execution_count": 40,
   "id": "87a2b352",
   "metadata": {
    "ExecuteTime": {
     "end_time": "2022-05-02T22:34:12.362195Z",
     "start_time": "2022-05-02T22:34:11.543284Z"
    }
   },
   "outputs": [],
   "source": [
    "notion_token = secrets['notion_token']\n",
    "\n",
    "ws = NotionWorkspace(token=notion_token)\n",
    "\n",
    "db_id = extract_database_id(todos_database_url)\n",
    "db = NotionDB(database_id=db_id, workspace=ws)"
   ]
  },
  {
   "cell_type": "code",
   "execution_count": 46,
   "id": "9a08da71",
   "metadata": {
    "ExecuteTime": {
     "end_time": "2022-05-02T22:48:57.235343Z",
     "start_time": "2022-05-02T22:48:57.229227Z"
    }
   },
   "outputs": [],
   "source": [
    "# db.create_page(Name=\"test\", bah='test2')"
   ]
  },
  {
   "cell_type": "code",
   "execution_count": 45,
   "id": "2846be4b",
   "metadata": {
    "ExecuteTime": {
     "end_time": "2022-05-02T22:48:52.808889Z",
     "start_time": "2022-05-02T22:48:52.801460Z"
    }
   },
   "outputs": [],
   "source": [
    "# db.load_all_pages()"
   ]
  },
  {
   "cell_type": "code",
   "execution_count": 44,
   "id": "78da700f",
   "metadata": {
    "ExecuteTime": {
     "end_time": "2022-05-02T22:48:51.085506Z",
     "start_time": "2022-05-02T22:48:51.079015Z"
    }
   },
   "outputs": [],
   "source": [
    "# db.data.keys()"
   ]
  },
  {
   "cell_type": "code",
   "execution_count": 43,
   "id": "307b4e63",
   "metadata": {
    "ExecuteTime": {
     "end_time": "2022-05-02T22:48:49.342793Z",
     "start_time": "2022-05-02T22:48:49.335394Z"
    }
   },
   "outputs": [],
   "source": [
    "# db.data['results'][0]"
   ]
  },
  {
   "cell_type": "code",
   "execution_count": 42,
   "id": "fd738925",
   "metadata": {
    "ExecuteTime": {
     "end_time": "2022-05-02T22:48:46.910065Z",
     "start_time": "2022-05-02T22:48:46.899691Z"
    }
   },
   "outputs": [],
   "source": [
    "# db.data"
   ]
  },
  {
   "cell_type": "code",
   "execution_count": null,
   "id": "99043059",
   "metadata": {},
   "outputs": [],
   "source": []
  }
 ],
 "metadata": {
  "kernelspec": {
   "display_name": "Python 3 (ipykernel)",
   "language": "python",
   "name": "python3"
  },
  "language_info": {
   "codemirror_mode": {
    "name": "ipython",
    "version": 3
   },
   "file_extension": ".py",
   "mimetype": "text/x-python",
   "name": "python",
   "nbconvert_exporter": "python",
   "pygments_lexer": "ipython3",
   "version": "3.10.4"
  }
 },
 "nbformat": 4,
 "nbformat_minor": 5
}
