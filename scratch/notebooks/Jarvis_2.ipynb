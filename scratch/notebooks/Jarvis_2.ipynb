{
 "cells": [
  {
   "cell_type": "code",
   "execution_count": null,
   "metadata": {
    "collapsed": true
   },
   "outputs": [],
   "source": [
    "# 1) connect Notion\n",
    "# 2) connect Telegram\n",
    "# 3) Do something - add task handler"
   ]
  },
  {
   "cell_type": "code",
   "execution_count": null,
   "outputs": [],
   "source": [],
   "metadata": {
    "collapsed": false,
    "pycharm": {
     "name": "#%%\n"
    }
   }
  },
  {
   "cell_type": "code",
   "execution_count": 56,
   "outputs": [],
   "source": [
    "# from pathlib import Path\n",
    "# secrets_path = Path('/Users/calm/home/notion_assistant/scratch/telegram_bot_example/secrets.json')\n",
    "# import json\n",
    "# secrets = json.load(secrets_path.open())\n",
    "\n",
    "from defaultenv import env\n",
    "# usage:\n",
    "# env(\"JARVIS_NOTION_TOKEN\")\n",
    "# env(\"JARVIS_TELEGRAM_TOKEN\")\n",
    "from scratch.NA_mvp import extract_database_id"
   ],
   "metadata": {
    "collapsed": false,
    "pycharm": {
     "name": "#%%\n"
    }
   }
  },
  {
   "cell_type": "code",
   "execution_count": 57,
   "outputs": [],
   "source": [
    "# 1) connect Notion\n",
    "import notion_client as notion\n",
    "notion_client = notion.Client(auth=env(\"JARVIS_NOTION_TOKEN\"))"
   ],
   "metadata": {
    "collapsed": false,
    "pycharm": {
     "name": "#%%\n"
    }
   }
  },
  {
   "cell_type": "code",
   "execution_count": 58,
   "outputs": [],
   "source": [
    "# 2) connect Telegram\n",
    "import telegram.ext\n",
    "telegram_updater = telegram.ext.Updater(env(\"JARVIS_TELEGRAM_TOKEN\"))"
   ],
   "metadata": {
    "collapsed": false,
    "pycharm": {
     "name": "#%%\n"
    }
   }
  },
  {
   "cell_type": "code",
   "execution_count": 59,
   "outputs": [],
   "source": [
    "# 3) add message handler\n",
    "TASKS_DATABASE ='https://www.notion.so/lavrovs/d96416324b44433a9d378f0767627301?v=877e567e513a4583b9e4614d1b059ba1'\n",
    "TASKS_DB_ID = extract_database_id(TASKS_DATABASE)\n",
    "\n",
    "class NotionClient:\n",
    "    def __init__(self, token):\n",
    "        self.client = notion.Client(auth=token)\n",
    "\n",
    "    # var1 - message text, tags - tags.\n",
    "    def add_task(self, name, content, tags):\n",
    "        \"\"\"\n",
    "        Example:\n",
    "        /add_task New task to cleanup #home sdf #urgent sdf\n",
    "\n",
    "        [] Clean up kitchen etc #idea\n",
    "        [] clean up desk\n",
    "        #2hours\n",
    "\n",
    "        :param text:\n",
    "        :param tags:\n",
    "        :return:\n",
    "        \"\"\"\n",
    "        self.client.pages.create(\n",
    "            parent={\"database_id\": TASKS_DB_ID},\n",
    "            properties={\n",
    "                \"Name\": {\n",
    "                    \"title\": [\n",
    "                        {\n",
    "                            \"text\": {\n",
    "                                \"content\": name,\n",
    "                            },\n",
    "                        },\n",
    "                    ],\n",
    "                },\n",
    "            },\n",
    "            children=[\n",
    "                {\n",
    "                    \"object\": 'block',\n",
    "                    \"type\": 'paragraph',\n",
    "                    \"paragraph\": {\n",
    "                        \"rich_text\": [\n",
    "                            {\n",
    "                                \"type\": 'text',\n",
    "                                \"text\": {\n",
    "                                    \"content\": content,\n",
    "                                },\n",
    "                            },\n",
    "                        ],\n",
    "                    },\n",
    "                },\n",
    "            ]\n",
    "        )"
   ],
   "metadata": {
    "collapsed": false,
    "pycharm": {
     "name": "#%%\n"
    }
   }
  },
  {
   "cell_type": "code",
   "execution_count": 59,
   "outputs": [],
   "source": [],
   "metadata": {
    "collapsed": false,
    "pycharm": {
     "name": "#%%\n"
    }
   }
  },
  {
   "cell_type": "code",
   "execution_count": 60,
   "outputs": [],
   "source": [
    "\n",
    "def parse_command(full_command):\n",
    "    \"\"\"\n",
    "    Parse telegram command format for Jarvis\n",
    "\n",
    "    Examples:\n",
    "    1. Simple command example:\n",
    "    >>> parse_command('/idea Test jarvis #link Notion Assistant #blue #important')\n",
    "    {'command': '/idea', 'text': 'Test jarvis', 'tags': {'link': 'Notion Assistant', 'blue': None, 'important': None}}\n",
    "\n",
    "    2. Text only\n",
    "    >>> parse_command('Just text with tags #link Notion Assistant #blue #important')\n",
    "    {'command': None, 'text': 'Just text with tags', 'tags': {'link': 'Notion Assistant', 'blue': None, 'important': None}}\n",
    "    \"\"\"\n",
    "    output = {}\n",
    "\n",
    "    # parse command\n",
    "    if full_command.startswith('/'):\n",
    "        command, message = full_command.split(None, 1)\n",
    "        output['command'] = command.rstrip()\n",
    "    else:\n",
    "        message = full_command\n",
    "        output['command'] = None\n",
    "\n",
    "\n",
    "    text, *tags = message.split('#')\n",
    "\n",
    "    # parse text\n",
    "    text = text.strip()\n",
    "    if '\\n' in text.strip():\n",
    "        # text with content, for example in\n",
    "        # /idea Make tests\n",
    "        # So that everything is tested\n",
    "        # #Important\n",
    "        text, content = text.split('\\n', 1)\n",
    "        output['name'] = text\n",
    "        output['content'] = content\n",
    "    else:\n",
    "        output['name'] = text\n",
    "        output['content'] = None\n",
    "\n",
    "    # parse tags\n",
    "    tags = [[part.rstrip() for part in tag.split(None, 1)] for tag in tags]\n",
    "    output['tags'] = dict([(tag + [None] if len(tag) == 1 else tag) for tag in tags])\n",
    "\n",
    "    return output"
   ],
   "metadata": {
    "collapsed": false,
    "pycharm": {
     "name": "#%%\n"
    }
   }
  },
  {
   "cell_type": "code",
   "execution_count": 61,
   "outputs": [],
   "source": [
    "def notion_decorator(func):\n",
    "    def new_func(upd, cont):\n",
    "        parts = parse_command(upd.message.text)\n",
    "        res = func(name=parts['name'], content=parts['content'], tags=parts['tags'])\n",
    "        if res:\n",
    "            upd.message.reply_text(res)\n",
    "    return new_func\n",
    "\n"
   ],
   "metadata": {
    "collapsed": false,
    "pycharm": {
     "name": "#%%\n"
    }
   }
  },
  {
   "cell_type": "code",
   "execution_count": 62,
   "outputs": [],
   "source": [
    "# 4) launch\n",
    "nc = NotionClient(token=env(\"JARVIS_NOTION_TOKEN\"))\n",
    "\n",
    "dispatcher = telegram_updater.dispatcher\n",
    "dispatcher.add_handler(telegram.ext.CommandHandler(\"add_task\",\n",
    "                                                   notion_decorator(nc.add_task)))"
   ],
   "metadata": {
    "collapsed": false,
    "pycharm": {
     "name": "#%%\n"
    }
   }
  },
  {
   "cell_type": "code",
   "execution_count": null,
   "outputs": [],
   "source": [
    "\n",
    "# Start the Bot\n",
    "telegram_updater.start_polling()\n",
    "\n",
    "# Run the bot until you press Ctrl-C or the process receives SIGINT,\n",
    "# SIGTERM or SIGABRT. This should be used most of the time, since\n",
    "# start_polling() is non-blocking and will stop the bot gracefully.\n",
    "telegram_updater.idle()"
   ],
   "metadata": {
    "collapsed": false,
    "pycharm": {
     "name": "#%%\n",
     "is_executing": true
    }
   }
  },
  {
   "cell_type": "code",
   "execution_count": 11,
   "outputs": [],
   "source": [
    "\n",
    "# test: DB_test_notion_assistant\n",
    "todos_database_url = 'https://www.notion.so/lavrovs/d96416324b44433a9d378f0767627301?v=877e567e513a4583b9e4614d1b059ba1'\n",
    "\n",
    "# notion_client\n",
    "# notion_client.databases.list()\n",
    "db_id = extract_database_id(todos_database_url)\n",
    "db = notion_client.databases.retrieve(db_id)"
   ],
   "metadata": {
    "collapsed": false,
    "pycharm": {
     "name": "#%%\n"
    }
   }
  },
  {
   "cell_type": "code",
   "execution_count": 14,
   "outputs": [
    {
     "data": {
      "text/plain": "['parent',\n '__module__',\n 'list',\n 'query',\n 'retrieve',\n 'create',\n 'update',\n '__doc__',\n '__init__',\n '__dict__',\n '__weakref__',\n '__repr__',\n '__hash__',\n '__str__',\n '__getattribute__',\n '__setattr__',\n '__delattr__',\n '__lt__',\n '__le__',\n '__eq__',\n '__ne__',\n '__gt__',\n '__ge__',\n '__new__',\n '__reduce_ex__',\n '__reduce__',\n '__subclasshook__',\n '__init_subclass__',\n '__format__',\n '__sizeof__',\n '__dir__',\n '__class__']"
     },
     "execution_count": 14,
     "metadata": {},
     "output_type": "execute_result"
    }
   ],
   "source": [
    "notion_client.databases.__dir__()"
   ],
   "metadata": {
    "collapsed": false,
    "pycharm": {
     "name": "#%%\n"
    }
   }
  },
  {
   "cell_type": "code",
   "execution_count": 16,
   "outputs": [],
   "source": [
    "notion_client.databases.query?"
   ],
   "metadata": {
    "collapsed": false,
    "pycharm": {
     "name": "#%%\n"
    }
   }
  },
  {
   "cell_type": "code",
   "execution_count": 18,
   "outputs": [],
   "source": [
    "notion_client.databases.update?"
   ],
   "metadata": {
    "collapsed": false,
    "pycharm": {
     "name": "#%%\n"
    }
   }
  },
  {
   "cell_type": "code",
   "execution_count": 21,
   "outputs": [
    {
     "data": {
      "text/plain": "['parent',\n 'properties',\n '__module__',\n '__init__',\n 'create',\n 'retrieve',\n 'update',\n '__doc__',\n '__dict__',\n '__weakref__',\n '__repr__',\n '__hash__',\n '__str__',\n '__getattribute__',\n '__setattr__',\n '__delattr__',\n '__lt__',\n '__le__',\n '__eq__',\n '__ne__',\n '__gt__',\n '__ge__',\n '__new__',\n '__reduce_ex__',\n '__reduce__',\n '__subclasshook__',\n '__init_subclass__',\n '__format__',\n '__sizeof__',\n '__dir__',\n '__class__']"
     },
     "execution_count": 21,
     "metadata": {},
     "output_type": "execute_result"
    }
   ],
   "source": [
    "notion_client.pages.__dir__()"
   ],
   "metadata": {
    "collapsed": false,
    "pycharm": {
     "name": "#%%\n"
    }
   }
  },
  {
   "cell_type": "code",
   "execution_count": null,
   "outputs": [],
   "source": [],
   "metadata": {
    "collapsed": false,
    "pycharm": {
     "name": "#%%\n",
     "is_executing": true
    }
   }
  },
  {
   "cell_type": "code",
   "execution_count": null,
   "outputs": [],
   "source": [
    "class NotionDB:\n",
    "    def __init__(self):\n",
    "\n",
    "    def create_page(self, name, content, properties):\n",
    "        if isinstance(content, str):\n",
    "            "
   ],
   "metadata": {
    "collapsed": false,
    "pycharm": {
     "name": "#%%\n"
    }
   }
  },
  {
   "cell_type": "code",
   "execution_count": 49,
   "outputs": [],
   "source": [
    "class Page:\n",
    "    def __dir__(self):\n",
    "        return ['a','_a'] + list(super(Page, self).__dir__())"
   ],
   "metadata": {
    "collapsed": false,
    "pycharm": {
     "name": "#%%\n"
    }
   }
  },
  {
   "cell_type": "code",
   "execution_count": 50,
   "outputs": [],
   "source": [
    "p = Page()"
   ],
   "metadata": {
    "collapsed": false,
    "pycharm": {
     "name": "#%%\n"
    }
   }
  },
  {
   "cell_type": "code",
   "execution_count": null,
   "outputs": [],
   "source": [
    "p.__dir__()"
   ],
   "metadata": {
    "collapsed": false,
    "pycharm": {
     "name": "#%%\n",
     "is_executing": true
    }
   }
  },
  {
   "cell_type": "code",
   "execution_count": null,
   "outputs": [],
   "source": [],
   "metadata": {
    "collapsed": false,
    "pycharm": {
     "name": "#%%\n"
    }
   }
  }
 ],
 "metadata": {
  "kernelspec": {
   "display_name": "Python 3",
   "language": "python",
   "name": "python3"
  },
  "language_info": {
   "codemirror_mode": {
    "name": "ipython",
    "version": 2
   },
   "file_extension": ".py",
   "mimetype": "text/x-python",
   "name": "python",
   "nbconvert_exporter": "python",
   "pygments_lexer": "ipython2",
   "version": "2.7.6"
  }
 },
 "nbformat": 4,
 "nbformat_minor": 0
}