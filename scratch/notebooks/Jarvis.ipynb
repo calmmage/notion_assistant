{
 "cells": [
  {
   "cell_type": "code",
   "execution_count": null,
   "id": "570199f8",
   "metadata": {
    "ExecuteTime": {
     "end_time": "2022-05-02T22:58:43.292972Z",
     "start_time": "2022-05-02T22:58:43.287363Z"
    }
   },
   "outputs": [],
   "source": [
    "# from pathlib import Path\n",
    "# secrets_path = Path('/Users/calm/home/notion_assistant/scratch/telegram_bot_example/secrets.json')\n",
    "# import json\n",
    "# secrets = json.load(secrets_path.open())\n",
    "\n",
    "from defaultenv import env\n",
    "# usage:\n",
    "# env(\"JARVIS_NOTION_TOKEN\")\n",
    "# env(\"JARVIS_TELEGRAM_TOKEN\")"
   ]
  },
  {
   "cell_type": "code",
   "execution_count": null,
   "id": "555cec5b",
   "metadata": {
    "ExecuteTime": {
     "end_time": "2022-05-02T22:58:45.056995Z",
     "start_time": "2022-05-02T22:58:43.294472Z"
    },
    "code_folding": []
   },
   "outputs": [],
   "source": [
    "# notion connection\n",
    "# todo: import notion workspace\n",
    "%run test_notion_api.ipynb\n",
    "# prod: DB_Actionable\n",
    "# todos_database = 'https://www.notion.so/lavrovs/2290411c436848479b4826e63d740c63?v=f50c1eebf2ba4441a922d523587b6b66'\n",
    "\n",
    "# test: DB_test_notion_assistant\n",
    "todos_database_url = 'https://www.notion.so/lavrovs/d96416324b44433a9d378f0767627301?v=877e567e513a4583b9e4614d1b059ba1'\n",
    "\n",
    "notion_token = secrets['notion_token']\n",
    "ws = NotionWorkspace(token=notion_token)\n",
    "\n",
    "todos_db_id = extract_database_id(todos_database_url)\n",
    "todos_db = NotionDB(database_id=todos_db_id, workspace=ws)\n"
   ]
  },
  {
   "cell_type": "code",
   "execution_count": null,
   "id": "47090f8a",
   "metadata": {
    "ExecuteTime": {
     "end_time": "2022-05-02T22:58:45.244663Z",
     "start_time": "2022-05-02T22:58:45.064561Z"
    }
   },
   "outputs": [],
   "source": [
    "# telegram connection\n",
    "# todo: import telegram bot\n",
    "%run test_telegram_bot.ipynb\n",
    "\n",
    "def initiate_telegram(token, **handlers):\n",
    "    \"\"\"\n",
    "    Sample handler:\n",
    "    def echo(update: Update, context: CallbackContext) -> None:\n",
    "        update.message.reply_text(update.message.text)\n",
    "    \"\"\"\n",
    "    telegram_bot = TelegramBot(token=token)\n",
    "\n",
    "    # add handlers\n",
    "    for command, handler in handlers.items():\n",
    "        telegram_bot.dispatcher.add_handler(CommandHandler(command, handler))\n",
    "        # todo: support help message with all possible commands and their docstrings\n",
    "        \n",
    "\n",
    "    telegram_bot.start()\n",
    "    return telegram_bot"
   ]
  },
  {
   "cell_type": "code",
   "execution_count": null,
   "id": "b1b900dd",
   "metadata": {
    "ExecuteTime": {
     "end_time": "2022-05-02T22:58:46.070495Z",
     "start_time": "2022-05-02T22:58:45.908965Z"
    }
   },
   "outputs": [],
   "source": [
    "# \n",
    "\n",
    "def add_task(update: Update, context: CallbackContext) -> None:\n",
    "    res = todos_db.create_page(Name=update.message.text)\n",
    "    print(res)\n",
    "    # todo: reply notion id\n",
    "    update.message.reply_text(res)\n",
    "\n",
    "telegram_bot = initiate_telegram(secrets['telegram_token'], task=add_task)\n"
   ]
  },
  {
   "cell_type": "code",
   "execution_count": null,
   "id": "f3545c56",
   "metadata": {
    "ExecuteTime": {
     "start_time": "2022-05-02T22:58:47.166Z"
    }
   },
   "outputs": [],
   "source": [
    "# telegram_bot.updater.idle()"
   ]
  },
  {
   "cell_type": "code",
   "execution_count": null,
   "id": "dbdbe1ab",
   "metadata": {
    "pycharm": {
     "name": "#%%\n"
    }
   },
   "outputs": [],
   "source": []
  }
 ],
 "metadata": {
  "kernelspec": {
   "display_name": "Python 3 (ipykernel)",
   "language": "python",
   "name": "python3"
  },
  "language_info": {
   "codemirror_mode": {
    "name": "ipython",
    "version": 3
   },
   "file_extension": ".py",
   "mimetype": "text/x-python",
   "name": "python",
   "nbconvert_exporter": "python",
   "pygments_lexer": "ipython3",
   "version": "3.10.4"
  }
 },
 "nbformat": 4,
 "nbformat_minor": 5
}