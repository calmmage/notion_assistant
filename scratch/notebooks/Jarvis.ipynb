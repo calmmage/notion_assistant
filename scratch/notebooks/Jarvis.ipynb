{
 "cells": [
  {
   "cell_type": "code",
   "execution_count": 1,
   "id": "570199f8",
   "metadata": {
    "ExecuteTime": {
     "end_time": "2022-05-02T22:58:43.292972Z",
     "start_time": "2022-05-02T22:58:43.287363Z"
    }
   },
   "outputs": [],
   "source": [
    "from pathlib import Path\n",
    "secrets_path = Path('/Users/calm/home/notion_assistant/scratch/telegram_bot_example/secrets.json')\n",
    "import json\n",
    "secrets = json.load(secrets_path.open())"
   ]
  },
  {
   "cell_type": "code",
   "execution_count": 2,
   "id": "555cec5b",
   "metadata": {
    "ExecuteTime": {
     "end_time": "2022-05-02T22:58:45.056995Z",
     "start_time": "2022-05-02T22:58:43.294472Z"
    },
    "code_folding": []
   },
   "outputs": [],
   "source": [
    "# notion connection\n",
    "# todo: import notion workspace\n",
    "%run test_notion_api.ipynb\n",
    "# prod: DB_Actionable\n",
    "# todos_database = 'https://www.notion.so/lavrovs/2290411c436848479b4826e63d740c63?v=f50c1eebf2ba4441a922d523587b6b66'\n",
    "\n",
    "# test: DB_test_notion_assistant\n",
    "todos_database_url = 'https://www.notion.so/lavrovs/d96416324b44433a9d378f0767627301?v=877e567e513a4583b9e4614d1b059ba1'\n",
    "\n",
    "notion_token = secrets['notion_token']\n",
    "ws = NotionWorkspace(token=notion_token)\n",
    "\n",
    "todos_db_id = extract_database_id(todos_database_url)\n",
    "todos_db = NotionDB(database_id=todos_db_id, workspace=ws)\n"
   ]
  },
  {
   "cell_type": "code",
   "execution_count": 3,
   "id": "47090f8a",
   "metadata": {
    "ExecuteTime": {
     "end_time": "2022-05-02T22:58:45.244663Z",
     "start_time": "2022-05-02T22:58:45.064561Z"
    }
   },
   "outputs": [],
   "source": [
    "# telegram connection\n",
    "# todo: import telegram bot\n",
    "%run test_telegram_bot.ipynb\n",
    "\n",
    "def initiate_telegram(token, **handlers):\n",
    "    \"\"\"\n",
    "    Sample handler:\n",
    "    def echo(update: Update, context: CallbackContext) -> None:\n",
    "        update.message.reply_text(update.message.text)\n",
    "    \"\"\"\n",
    "    telegram_bot = TelegramBot(token=token)\n",
    "\n",
    "    # add handlers\n",
    "    for command, handler in handlers.items():\n",
    "        telegram_bot.dispatcher.add_handler(CommandHandler(command, handler))\n",
    "        # todo: support help message with all possible commands and their docstrings\n",
    "        \n",
    "\n",
    "    telegram_bot.start()\n",
    "    return telegram_bot"
   ]
  },
  {
   "cell_type": "code",
   "execution_count": 4,
   "id": "b1b900dd",
   "metadata": {
    "ExecuteTime": {
     "end_time": "2022-05-02T22:58:46.070495Z",
     "start_time": "2022-05-02T22:58:45.908965Z"
    }
   },
   "outputs": [
    {
     "name": "stderr",
     "output_type": "stream",
     "text": [
      "2022-05-03 00:58:45,922 - apscheduler.scheduler - INFO - Scheduler started\n"
     ]
    }
   ],
   "source": [
    "# \n",
    "\n",
    "def add_task(update: Update, context: CallbackContext) -> None:\n",
    "    res = todos_db.create_page(Name=update.message.text)\n",
    "    print(res)\n",
    "    # todo: reply notion id\n",
    "    update.message.reply_text(res)\n",
    "\n",
    "telegram_bot = initiate_telegram(secrets['telegram_token'], task=add_task)\n"
   ]
  },
  {
   "cell_type": "code",
   "execution_count": null,
   "id": "f3545c56",
   "metadata": {
    "ExecuteTime": {
     "start_time": "2022-05-02T22:58:47.166Z"
    }
   },
   "outputs": [
    {
     "name": "stderr",
     "output_type": "stream",
     "text": [
      "2022-05-03 00:58:56,328 - telegram.ext.dispatcher - ERROR - No error handlers are registered, logging exception.\n",
      "Traceback (most recent call last):\n",
      "  File \"/Users/calm/code/anaconda3/envs/dev/lib/python3.10/site-packages/telegram/ext/dispatcher.py\", line 555, in process_update\n",
      "    handler.handle_update(update, self, check, context)\n",
      "  File \"/Users/calm/code/anaconda3/envs/dev/lib/python3.10/site-packages/telegram/ext/handler.py\", line 198, in handle_update\n",
      "    return self.callback(update, context)\n",
      "  File \"/var/folders/fk/k694k5yn3gv3kpgkrt2ftkyc0000gn/T/ipykernel_69780/941973916.py\", line 7, in add_task\n",
      "    update.message.reply_text(res)\n",
      "  File \"/Users/calm/code/anaconda3/envs/dev/lib/python3.10/site-packages/telegram/message.py\", line 791, in reply_text\n",
      "    return self.bot.send_message(\n",
      "  File \"/Users/calm/code/anaconda3/envs/dev/lib/python3.10/site-packages/telegram/bot.py\", line 130, in decorator\n",
      "    result = func(*args, **kwargs)\n",
      "  File \"/Users/calm/code/anaconda3/envs/dev/lib/python3.10/site-packages/telegram/bot.py\", line 522, in send_message\n",
      "    return self._message(  # type: ignore[return-value]\n",
      "  File \"/Users/calm/code/anaconda3/envs/dev/lib/python3.10/site-packages/telegram/ext/extbot.py\", line 200, in _message\n",
      "    result = super()._message(\n",
      "  File \"/Users/calm/code/anaconda3/envs/dev/lib/python3.10/site-packages/telegram/bot.py\", line 336, in _message\n",
      "    result = self._post(endpoint, data, timeout=timeout, api_kwargs=api_kwargs)\n",
      "  File \"/Users/calm/code/anaconda3/envs/dev/lib/python3.10/site-packages/telegram/bot.py\", line 295, in _post\n",
      "    return self.request.post(\n",
      "  File \"/Users/calm/code/anaconda3/envs/dev/lib/python3.10/site-packages/telegram/utils/request.py\", line 361, in post\n",
      "    result = self._request_wrapper(\n",
      "  File \"/Users/calm/code/anaconda3/envs/dev/lib/python3.10/site-packages/telegram/utils/request.py\", line 279, in _request_wrapper\n",
      "    raise BadRequest(message)\n",
      "telegram.error.BadRequest: Message text is empty\n"
     ]
    },
    {
     "name": "stdout",
     "output_type": "stream",
     "text": [
      "200\n",
      "{\"object\":\"page\",\"id\":\"2a6f9e18-2ae7-48af-93fb-2a9c07d0af56\",\"created_time\":\"2022-05-02T22:58:00.000Z\",\"last_edited_time\":\"2022-05-02T22:58:00.000Z\",\"created_by\":{\"object\":\"user\",\"id\":\"f4c83ed9-f786-43ed-8e2d-b11441d29753\"},\"last_edited_by\":{\"object\":\"user\",\"id\":\"f4c83ed9-f786-43ed-8e2d-b11441d29753\"},\"cover\":null,\"icon\":null,\"parent\":{\"type\":\"database_id\",\"database_id\":\"d9641632-4b44-433a-9d37-8f0767627301\"},\"archived\":false,\"properties\":{\"bah\":{\"id\":\"%3CU%7Cn\",\"type\":\"rich_text\",\"rich_text\":[]},\"Tags\":{\"id\":\"DsG%3C\",\"type\":\"multi_select\",\"multi_select\":[]},\"C_Type\":{\"id\":\"Kdnq\",\"type\":\"select\",\"select\":null},\"C_Archive\":{\"id\":\"~r%7DX\",\"type\":\"checkbox\",\"checkbox\":false},\"Name\":{\"id\":\"title\",\"type\":\"title\",\"title\":[{\"type\":\"text\",\"text\":{\"content\":\"/task test 2\",\"link\":null},\"annotations\":{\"bold\":false,\"italic\":false,\"strikethrough\":false,\"underline\":false,\"code\":false,\"color\":\"default\"},\"plain_text\":\"/task test 2\",\"href\":null}]}},\"url\":\"https://www.notion.so/task-test-2-2a6f9e182ae748af93fb2a9c07d0af56\"}\n",
      "None\n"
     ]
    },
    {
     "name": "stderr",
     "output_type": "stream",
     "text": [
      "2022-05-03 01:00:05,370 - telegram.ext.dispatcher - ERROR - No error handlers are registered, logging exception.\n",
      "Traceback (most recent call last):\n",
      "  File \"/Users/calm/code/anaconda3/envs/dev/lib/python3.10/site-packages/telegram/ext/dispatcher.py\", line 555, in process_update\n",
      "    handler.handle_update(update, self, check, context)\n",
      "  File \"/Users/calm/code/anaconda3/envs/dev/lib/python3.10/site-packages/telegram/ext/handler.py\", line 198, in handle_update\n",
      "    return self.callback(update, context)\n",
      "  File \"/var/folders/fk/k694k5yn3gv3kpgkrt2ftkyc0000gn/T/ipykernel_69780/941973916.py\", line 7, in add_task\n",
      "    update.message.reply_text(res)\n",
      "  File \"/Users/calm/code/anaconda3/envs/dev/lib/python3.10/site-packages/telegram/message.py\", line 791, in reply_text\n",
      "    return self.bot.send_message(\n",
      "  File \"/Users/calm/code/anaconda3/envs/dev/lib/python3.10/site-packages/telegram/bot.py\", line 130, in decorator\n",
      "    result = func(*args, **kwargs)\n",
      "  File \"/Users/calm/code/anaconda3/envs/dev/lib/python3.10/site-packages/telegram/bot.py\", line 522, in send_message\n",
      "    return self._message(  # type: ignore[return-value]\n",
      "  File \"/Users/calm/code/anaconda3/envs/dev/lib/python3.10/site-packages/telegram/ext/extbot.py\", line 200, in _message\n",
      "    result = super()._message(\n",
      "  File \"/Users/calm/code/anaconda3/envs/dev/lib/python3.10/site-packages/telegram/bot.py\", line 336, in _message\n",
      "    result = self._post(endpoint, data, timeout=timeout, api_kwargs=api_kwargs)\n",
      "  File \"/Users/calm/code/anaconda3/envs/dev/lib/python3.10/site-packages/telegram/bot.py\", line 295, in _post\n",
      "    return self.request.post(\n",
      "  File \"/Users/calm/code/anaconda3/envs/dev/lib/python3.10/site-packages/telegram/utils/request.py\", line 361, in post\n",
      "    result = self._request_wrapper(\n",
      "  File \"/Users/calm/code/anaconda3/envs/dev/lib/python3.10/site-packages/telegram/utils/request.py\", line 279, in _request_wrapper\n",
      "    raise BadRequest(message)\n",
      "telegram.error.BadRequest: Message text is empty\n"
     ]
    },
    {
     "name": "stdout",
     "output_type": "stream",
     "text": [
      "200\n",
      "{\"object\":\"page\",\"id\":\"2a8614a2-be7d-43db-b4ee-740423a2bb0c\",\"created_time\":\"2022-05-02T23:00:00.000Z\",\"last_edited_time\":\"2022-05-02T23:00:00.000Z\",\"created_by\":{\"object\":\"user\",\"id\":\"f4c83ed9-f786-43ed-8e2d-b11441d29753\"},\"last_edited_by\":{\"object\":\"user\",\"id\":\"f4c83ed9-f786-43ed-8e2d-b11441d29753\"},\"cover\":null,\"icon\":null,\"parent\":{\"type\":\"database_id\",\"database_id\":\"d9641632-4b44-433a-9d37-8f0767627301\"},\"archived\":false,\"properties\":{\"bah\":{\"id\":\"%3CU%7Cn\",\"type\":\"rich_text\",\"rich_text\":[]},\"Tags\":{\"id\":\"DsG%3C\",\"type\":\"multi_select\",\"multi_select\":[]},\"C_Type\":{\"id\":\"Kdnq\",\"type\":\"select\",\"select\":null},\"C_Archive\":{\"id\":\"~r%7DX\",\"type\":\"checkbox\",\"checkbox\":false},\"Name\":{\"id\":\"title\",\"type\":\"title\",\"title\":[{\"type\":\"text\",\"text\":{\"content\":\"/task Аня!\",\"link\":null},\"annotations\":{\"bold\":false,\"italic\":false,\"strikethrough\":false,\"underline\":false,\"code\":false,\"color\":\"default\"},\"plain_text\":\"/task Аня!\",\"href\":null}]}},\"url\":\"https://www.notion.so/task-2a8614a2be7d43dbb4ee740423a2bb0c\"}\n",
      "None\n"
     ]
    },
    {
     "name": "stderr",
     "output_type": "stream",
     "text": [
      "2022-05-03 11:44:38,064 - telegram.ext.dispatcher - ERROR - No error handlers are registered, logging exception.\n",
      "Traceback (most recent call last):\n",
      "  File \"/Users/calm/code/anaconda3/envs/dev/lib/python3.10/site-packages/telegram/vendor/ptb_urllib3/urllib3/connectionpool.py\", line 614, in urlopen\n",
      "    httplib_response = self._make_request(conn, method, url,\n",
      "  File \"/Users/calm/code/anaconda3/envs/dev/lib/python3.10/site-packages/telegram/vendor/ptb_urllib3/urllib3/connectionpool.py\", line 402, in _make_request\n",
      "    six.raise_from(e, None)\n",
      "  File \"<string>\", line 2, in raise_from\n",
      "  File \"/Users/calm/code/anaconda3/envs/dev/lib/python3.10/site-packages/telegram/vendor/ptb_urllib3/urllib3/connectionpool.py\", line 398, in _make_request\n",
      "    httplib_response = conn.getresponse()\n",
      "  File \"/Users/calm/code/anaconda3/envs/dev/lib/python3.10/http/client.py\", line 1374, in getresponse\n",
      "    response.begin()\n",
      "  File \"/Users/calm/code/anaconda3/envs/dev/lib/python3.10/http/client.py\", line 318, in begin\n",
      "    version, status, reason = self._read_status()\n",
      "  File \"/Users/calm/code/anaconda3/envs/dev/lib/python3.10/http/client.py\", line 287, in _read_status\n",
      "    raise RemoteDisconnected(\"Remote end closed connection without\"\n",
      "http.client.RemoteDisconnected: Remote end closed connection without response\n",
      "\n",
      "During handling of the above exception, another exception occurred:\n",
      "\n",
      "Traceback (most recent call last):\n",
      "  File \"/Users/calm/code/anaconda3/envs/dev/lib/python3.10/site-packages/telegram/utils/request.py\", line 259, in _request_wrapper\n",
      "    resp = self._con_pool.request(*args, **kwargs)\n",
      "  File \"/Users/calm/code/anaconda3/envs/dev/lib/python3.10/site-packages/telegram/vendor/ptb_urllib3/urllib3/request.py\", line 68, in request\n",
      "    return self.request_encode_body(method, url, fields=fields,\n",
      "  File \"/Users/calm/code/anaconda3/envs/dev/lib/python3.10/site-packages/telegram/vendor/ptb_urllib3/urllib3/request.py\", line 148, in request_encode_body\n",
      "    return self.urlopen(method, url, **extra_kw)\n",
      "  File \"/Users/calm/code/anaconda3/envs/dev/lib/python3.10/site-packages/telegram/vendor/ptb_urllib3/urllib3/poolmanager.py\", line 244, in urlopen\n",
      "    response = conn.urlopen(method, u.request_uri, **kw)\n",
      "  File \"/Users/calm/code/anaconda3/envs/dev/lib/python3.10/site-packages/telegram/vendor/ptb_urllib3/urllib3/connectionpool.py\", line 665, in urlopen\n",
      "    retries = retries.increment(method, url, error=e, _pool=self,\n",
      "  File \"/Users/calm/code/anaconda3/envs/dev/lib/python3.10/site-packages/telegram/vendor/ptb_urllib3/urllib3/util/retry.py\", line 347, in increment\n",
      "    raise six.reraise(type(error), error, _stacktrace)\n",
      "  File \"/Users/calm/code/anaconda3/envs/dev/lib/python3.10/site-packages/telegram/vendor/ptb_urllib3/urllib3/packages/six.py\", line 685, in reraise\n",
      "    raise value.with_traceback(tb)\n",
      "  File \"/Users/calm/code/anaconda3/envs/dev/lib/python3.10/site-packages/telegram/vendor/ptb_urllib3/urllib3/connectionpool.py\", line 614, in urlopen\n",
      "    httplib_response = self._make_request(conn, method, url,\n",
      "  File \"/Users/calm/code/anaconda3/envs/dev/lib/python3.10/site-packages/telegram/vendor/ptb_urllib3/urllib3/connectionpool.py\", line 402, in _make_request\n",
      "    six.raise_from(e, None)\n",
      "  File \"<string>\", line 2, in raise_from\n",
      "  File \"/Users/calm/code/anaconda3/envs/dev/lib/python3.10/site-packages/telegram/vendor/ptb_urllib3/urllib3/connectionpool.py\", line 398, in _make_request\n",
      "    httplib_response = conn.getresponse()\n",
      "  File \"/Users/calm/code/anaconda3/envs/dev/lib/python3.10/http/client.py\", line 1374, in getresponse\n",
      "    response.begin()\n",
      "  File \"/Users/calm/code/anaconda3/envs/dev/lib/python3.10/http/client.py\", line 318, in begin\n",
      "    version, status, reason = self._read_status()\n",
      "  File \"/Users/calm/code/anaconda3/envs/dev/lib/python3.10/http/client.py\", line 287, in _read_status\n",
      "    raise RemoteDisconnected(\"Remote end closed connection without\"\n",
      "telegram.vendor.ptb_urllib3.urllib3.exceptions.ProtocolError: ('Connection aborted.', RemoteDisconnected('Remote end closed connection without response'))\n",
      "\n",
      "The above exception was the direct cause of the following exception:\n",
      "\n",
      "Traceback (most recent call last):\n",
      "  File \"/Users/calm/code/anaconda3/envs/dev/lib/python3.10/site-packages/telegram/ext/dispatcher.py\", line 555, in process_update\n",
      "    handler.handle_update(update, self, check, context)\n",
      "  File \"/Users/calm/code/anaconda3/envs/dev/lib/python3.10/site-packages/telegram/ext/handler.py\", line 198, in handle_update\n",
      "    return self.callback(update, context)\n",
      "  File \"/var/folders/fk/k694k5yn3gv3kpgkrt2ftkyc0000gn/T/ipykernel_69780/941973916.py\", line 7, in add_task\n",
      "    update.message.reply_text(res)\n",
      "  File \"/Users/calm/code/anaconda3/envs/dev/lib/python3.10/site-packages/telegram/message.py\", line 791, in reply_text\n",
      "    return self.bot.send_message(\n",
      "  File \"/Users/calm/code/anaconda3/envs/dev/lib/python3.10/site-packages/telegram/bot.py\", line 130, in decorator\n",
      "    result = func(*args, **kwargs)\n",
      "  File \"/Users/calm/code/anaconda3/envs/dev/lib/python3.10/site-packages/telegram/bot.py\", line 522, in send_message\n",
      "    return self._message(  # type: ignore[return-value]\n",
      "  File \"/Users/calm/code/anaconda3/envs/dev/lib/python3.10/site-packages/telegram/ext/extbot.py\", line 200, in _message\n",
      "    result = super()._message(\n",
      "  File \"/Users/calm/code/anaconda3/envs/dev/lib/python3.10/site-packages/telegram/bot.py\", line 336, in _message\n",
      "    result = self._post(endpoint, data, timeout=timeout, api_kwargs=api_kwargs)\n",
      "  File \"/Users/calm/code/anaconda3/envs/dev/lib/python3.10/site-packages/telegram/bot.py\", line 295, in _post\n",
      "    return self.request.post(\n",
      "  File \"/Users/calm/code/anaconda3/envs/dev/lib/python3.10/site-packages/telegram/utils/request.py\", line 361, in post\n",
      "    result = self._request_wrapper(\n",
      "  File \"/Users/calm/code/anaconda3/envs/dev/lib/python3.10/site-packages/telegram/utils/request.py\", line 265, in _request_wrapper\n",
      "    raise NetworkError(f'urllib3 HTTPError {error}') from error\n",
      "telegram.error.NetworkError: urllib3 HTTPError ('Connection aborted.', RemoteDisconnected('Remote end closed connection without response'))\n"
     ]
    },
    {
     "name": "stdout",
     "output_type": "stream",
     "text": [
      "200\n",
      "{\"object\":\"page\",\"id\":\"291ddbdc-1b7f-41ac-b67b-3ad1130542ba\",\"created_time\":\"2022-05-03T09:44:00.000Z\",\"last_edited_time\":\"2022-05-03T09:44:00.000Z\",\"created_by\":{\"object\":\"user\",\"id\":\"f4c83ed9-f786-43ed-8e2d-b11441d29753\"},\"last_edited_by\":{\"object\":\"user\",\"id\":\"f4c83ed9-f786-43ed-8e2d-b11441d29753\"},\"cover\":null,\"icon\":null,\"parent\":{\"type\":\"database_id\",\"database_id\":\"d9641632-4b44-433a-9d37-8f0767627301\"},\"archived\":false,\"properties\":{\"bah\":{\"id\":\"%3CU%7Cn\",\"type\":\"rich_text\",\"rich_text\":[]},\"Tags\":{\"id\":\"DsG%3C\",\"type\":\"multi_select\",\"multi_select\":[]},\"C_Type\":{\"id\":\"Kdnq\",\"type\":\"select\",\"select\":null},\"C_Archive\":{\"id\":\"~r%7DX\",\"type\":\"checkbox\",\"checkbox\":false},\"Name\":{\"id\":\"title\",\"type\":\"title\",\"title\":[{\"type\":\"text\",\"text\":{\"content\":\"/task ефвроащфвоа\",\"link\":null},\"annotations\":{\"bold\":false,\"italic\":false,\"strikethrough\":false,\"underline\":false,\"code\":false,\"color\":\"default\"},\"plain_text\":\"/task ефвроащфвоа\",\"href\":null}]}},\"url\":\"https://www.notion.so/task-291ddbdc1b7f41acb67b3ad1130542ba\"}\n",
      "None\n"
     ]
    }
   ],
   "source": [
    "# telegram_bot.updater.idle()"
   ]
  },
  {
   "cell_type": "code",
   "execution_count": null,
   "outputs": [],
   "source": [],
   "metadata": {
    "collapsed": false,
    "pycharm": {
     "name": "#%%\n"
    }
   }
  }
 ],
 "metadata": {
  "kernelspec": {
   "display_name": "Python 3 (ipykernel)",
   "language": "python",
   "name": "python3"
  },
  "language_info": {
   "codemirror_mode": {
    "name": "ipython",
    "version": 3
   },
   "file_extension": ".py",
   "mimetype": "text/x-python",
   "name": "python",
   "nbconvert_exporter": "python",
   "pygments_lexer": "ipython3",
   "version": "3.10.4"
  }
 },
 "nbformat": 4,
 "nbformat_minor": 5
}