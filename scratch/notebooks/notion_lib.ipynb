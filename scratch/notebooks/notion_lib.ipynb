{
 "cells": [
  {
   "cell_type": "code",
   "execution_count": 5,
   "outputs": [
    {
     "name": "stdout",
     "output_type": "stream",
     "text": [
      "1\n"
     ]
    }
   ],
   "source": [
    "print(1)"
   ],
   "metadata": {
    "collapsed": false,
    "pycharm": {
     "name": "#%%\n"
    }
   }
  },
  {
   "cell_type": "code",
   "execution_count": 2,
   "outputs": [
    {
     "ename": "ModuleNotFoundError",
     "evalue": "No module named 'dev.notion_lib'",
     "output_type": "error",
     "traceback": [
      "\u001B[0;31m---------------------------------------------------------------------------\u001B[0m",
      "\u001B[0;31mModuleNotFoundError\u001B[0m                       Traceback (most recent call last)",
      "\u001B[0;32m/var/folders/fk/k694k5yn3gv3kpgkrt2ftkyc0000gn/T/ipykernel_54155/4026133262.py\u001B[0m in \u001B[0;36m<module>\u001B[0;34m\u001B[0m\n\u001B[0;32m----> 1\u001B[0;31m \u001B[0;32mfrom\u001B[0m \u001B[0mdev\u001B[0m\u001B[0;34m.\u001B[0m\u001B[0mnotion_lib\u001B[0m \u001B[0;32mimport\u001B[0m \u001B[0mNotion\u001B[0m\u001B[0;34m,\u001B[0m \u001B[0mNotionDB\u001B[0m\u001B[0;34m,\u001B[0m \u001B[0mNotionPage\u001B[0m\u001B[0;34m\u001B[0m\u001B[0;34m\u001B[0m\u001B[0m\n\u001B[0m\u001B[1;32m      2\u001B[0m \u001B[0;34m\u001B[0m\u001B[0m\n\u001B[1;32m      3\u001B[0m \u001B[0;32mimport\u001B[0m \u001B[0mnotion_client\u001B[0m\u001B[0;34m\u001B[0m\u001B[0;34m\u001B[0m\u001B[0m\n\u001B[1;32m      4\u001B[0m \u001B[0;31m# from typing import Dict\u001B[0m\u001B[0;34m\u001B[0m\u001B[0;34m\u001B[0m\u001B[0;34m\u001B[0m\u001B[0m\n\u001B[1;32m      5\u001B[0m \u001B[0;32mclass\u001B[0m \u001B[0mNotion\u001B[0m\u001B[0;34m:\u001B[0m \u001B[0;31m# todo: make a factory, forbid duplication\u001B[0m\u001B[0;34m\u001B[0m\u001B[0;34m\u001B[0m\u001B[0m\n",
      "\u001B[0;31mModuleNotFoundError\u001B[0m: No module named 'dev.notion_lib'"
     ]
    }
   ],
   "source": [
    "from dev.notion_lib import Notion, NotionDB, NotionPage\n",
    "\n",
    "import notion_client\n",
    "# from typing import Dict\n",
    "class Notion: # todo: make a factory, forbid duplication\n",
    "    def __init__(self, token):\n",
    "        self.client = notion_client.Client(auth=token)\n",
    "\n",
    "    def get_db(self, db_id):\n",
    "        return NotionDB(id=db_id, client=self)\n",
    "\n",
    "    def find_db(self, name):\n",
    "        res = self.client.search(query=name)['results']\n",
    "        if len(res) != 1:\n",
    "            raise RuntimeError(f\"Ambiguous search results: {res}\")\n",
    "        return self.get_db(res[0]['id'])\n",
    "\n",
    "    @property\n",
    "    def workspace_name(self):\n",
    "        return \"lavrovs\" # todo: implement properly\n",
    "    # @property\n",
    "    # def dbs(self) -> Dict[str, NotionDB]:\n",
    "    #     pass\n",
    "\n",
    "\n",
    "    # todo map\n",
    "\n",
    "    # todo dot-access"
   ],
   "metadata": {
    "collapsed": false,
    "pycharm": {
     "name": "#%%\n"
    }
   }
  },
  {
   "cell_type": "code",
   "execution_count": 3,
   "outputs": [
    {
     "ename": "ImportError",
     "evalue": "cannot import name 'cached_property' from 'functools' (/Users/calm/code/anaconda3/envs/dev/lib/python3.7/functools.py)",
     "output_type": "error",
     "traceback": [
      "\u001B[0;31m---------------------------------------------------------------------------\u001B[0m",
      "\u001B[0;31mImportError\u001B[0m                               Traceback (most recent call last)",
      "\u001B[0;32m/var/folders/fk/k694k5yn3gv3kpgkrt2ftkyc0000gn/T/ipykernel_54155/1289311121.py\u001B[0m in \u001B[0;36m<module>\u001B[0;34m\u001B[0m\n\u001B[0;32m----> 1\u001B[0;31m \u001B[0;32mfrom\u001B[0m \u001B[0mfunctools\u001B[0m \u001B[0;32mimport\u001B[0m \u001B[0mcached_property\u001B[0m\u001B[0;34m\u001B[0m\u001B[0;34m\u001B[0m\u001B[0m\n\u001B[0m\u001B[1;32m      2\u001B[0m \u001B[0mNOTION_LINK_TEMPLATE\u001B[0m \u001B[0;34m=\u001B[0m \u001B[0;34m\"https://www.notion.so/{id}\"\u001B[0m\u001B[0;34m\u001B[0m\u001B[0;34m\u001B[0m\u001B[0m\n\u001B[1;32m      3\u001B[0m \u001B[0;34m\u001B[0m\u001B[0m\n\u001B[1;32m      4\u001B[0m \u001B[0;32mclass\u001B[0m \u001B[0mNotionObject\u001B[0m\u001B[0;34m:\u001B[0m\u001B[0;34m\u001B[0m\u001B[0;34m\u001B[0m\u001B[0m\n\u001B[1;32m      5\u001B[0m     \u001B[0;32mdef\u001B[0m \u001B[0m__init__\u001B[0m\u001B[0;34m(\u001B[0m\u001B[0mself\u001B[0m\u001B[0;34m,\u001B[0m \u001B[0mid\u001B[0m\u001B[0;34m,\u001B[0m \u001B[0mclient\u001B[0m\u001B[0;34m:\u001B[0m \u001B[0mNotion\u001B[0m\u001B[0;34m)\u001B[0m\u001B[0;34m:\u001B[0m\u001B[0;34m\u001B[0m\u001B[0;34m\u001B[0m\u001B[0m\n",
      "\u001B[0;31mImportError\u001B[0m: cannot import name 'cached_property' from 'functools' (/Users/calm/code/anaconda3/envs/dev/lib/python3.7/functools.py)"
     ]
    }
   ],
   "source": [
    "from functools import cached_property\n",
    "NOTION_LINK_TEMPLATE = \"https://www.notion.so/{id}\"\n",
    "\n",
    "class NotionObject:\n",
    "    def __init__(self, id, client: Notion):\n",
    "        self.id = id\n",
    "        self.client = client\n",
    "\n",
    "    @property\n",
    "    def url(self):\n",
    "        raise NOTION_LINK_TEMPLATE.format(id=self.id)"
   ],
   "metadata": {
    "collapsed": false,
    "pycharm": {
     "name": "#%%\n"
    }
   }
  },
  {
   "cell_type": "code",
   "execution_count": 4,
   "metadata": {
    "collapsed": true
   },
   "outputs": [
    {
     "ename": "NameError",
     "evalue": "name 'NotionObject' is not defined",
     "output_type": "error",
     "traceback": [
      "\u001B[0;31m---------------------------------------------------------------------------\u001B[0m",
      "\u001B[0;31mNameError\u001B[0m                                 Traceback (most recent call last)",
      "\u001B[0;32m/var/folders/fk/k694k5yn3gv3kpgkrt2ftkyc0000gn/T/ipykernel_54155/293962988.py\u001B[0m in \u001B[0;36m<module>\u001B[0;34m\u001B[0m\n\u001B[0;32m----> 1\u001B[0;31m \u001B[0;32mclass\u001B[0m \u001B[0mNotionDB\u001B[0m\u001B[0;34m(\u001B[0m\u001B[0mNotionObject\u001B[0m\u001B[0;34m)\u001B[0m\u001B[0;34m:\u001B[0m\u001B[0;34m\u001B[0m\u001B[0;34m\u001B[0m\u001B[0m\n\u001B[0m\u001B[1;32m      2\u001B[0m     \u001B[0;31m# def __init__(self, id, client: Notion):\u001B[0m\u001B[0;34m\u001B[0m\u001B[0;34m\u001B[0m\u001B[0;34m\u001B[0m\u001B[0m\n\u001B[1;32m      3\u001B[0m     \u001B[0;31m#     self.id = id\u001B[0m\u001B[0;34m\u001B[0m\u001B[0;34m\u001B[0m\u001B[0;34m\u001B[0m\u001B[0m\n\u001B[1;32m      4\u001B[0m     \u001B[0;31m#     self.client = client\u001B[0m\u001B[0;34m\u001B[0m\u001B[0;34m\u001B[0m\u001B[0;34m\u001B[0m\u001B[0m\n\u001B[1;32m      5\u001B[0m \u001B[0;34m\u001B[0m\u001B[0m\n",
      "\u001B[0;31mNameError\u001B[0m: name 'NotionObject' is not defined"
     ]
    }
   ],
   "source": [
    "\n",
    "class NotionDB(NotionObject):\n",
    "    # def __init__(self, id, client: Notion):\n",
    "    #     self.id = id\n",
    "    #     self.client = client\n",
    "\n",
    "    def add(self, page):\n",
    "        raise NotImplemented\n",
    "\n",
    "    @cached_property #todo: refresh cache from time to time?\n",
    "    def metadata(self):\n",
    "        return self.client.client.databases.retrieve(self.id)\n",
    "\n",
    "    # todo: summary. Recently edited pages + Big pages\n",
    "\n",
    "    # todo: suggestions - __dir__, dot-access"
   ]
  },
  {
   "cell_type": "code",
   "execution_count": null,
   "outputs": [],
   "source": [
    "class NotionPage(NotionObject):\n",
    "    # def __init__(self, id,  client: Notion):\n",
    "    #     self.id = id\n",
    "    #     self.client = client\n",
    "\n",
    "    @cached_property #todo: just remove? requests are cheap\n",
    "    def metadata(self):\n",
    "        return self.client.client.pages.retrieve(self.id)"
   ],
   "metadata": {
    "collapsed": false,
    "pycharm": {
     "name": "#%%\n"
    }
   }
  },
  {
   "cell_type": "code",
   "execution_count": 1,
   "outputs": [],
   "source": [],
   "metadata": {
    "collapsed": false,
    "pycharm": {
     "name": "#%%\n"
    }
   }
  },
  {
   "cell_type": "code",
   "execution_count": 2,
   "outputs": [],
   "source": [
    "# test\n",
    "from defaultenv import env\n",
    "n = Notion(env(\"JARVIS_NOTION_TOKEN\"))"
   ],
   "metadata": {
    "collapsed": false,
    "pycharm": {
     "name": "#%%\n"
    }
   }
  },
  {
   "cell_type": "code",
   "execution_count": 9,
   "outputs": [
    {
     "data": {
      "text/plain": "{'object': 'list',\n 'results': [{'object': 'database',\n   'id': '2290411c-4368-4847-9b48-26e63d740c63',\n   'cover': None,\n   'icon': {'type': 'emoji', 'emoji': '💨'},\n   'created_time': '2022-04-03T15:40:00.000Z',\n   'created_by': {'object': 'user',\n    'id': 'd0643a1e-565f-436c-9f25-e153ed140d34'},\n   'last_edited_by': {'object': 'user',\n    'id': 'd0643a1e-565f-436c-9f25-e153ed140d34'},\n   'last_edited_time': '2022-06-15T16:59:00.000Z',\n   'title': [{'type': 'text',\n     'text': {'content': 'DB_Todos', 'link': None},\n     'annotations': {'bold': False,\n      'italic': False,\n      'strikethrough': False,\n      'underline': False,\n      'code': False,\n      'color': 'default'},\n     'plain_text': 'DB_Todos',\n     'href': None}],\n   'description': [],\n   'properties': {'PM_Context': {'id': '%3DgTh',\n     'name': 'PM_Context',\n     'type': 'relation',\n     'relation': {'database_id': '2290411c-4368-4847-9b48-26e63d740c63',\n      'synced_property_name': 'PM_Context',\n      'synced_property_id': '=gTh'}},\n    'S_Status': {'id': '%3E%7DMG',\n     'name': 'S_Status',\n     'type': 'select',\n     'select': {'options': [{'id': '08225dd6-59b2-4851-85c6-d95a4d5d0dda',\n        'name': 'Cancelled',\n        'color': 'blue'},\n       {'id': '9b478edd-c304-4075-a487-150643b102f3',\n        'name': 'Done',\n        'color': 'red'},\n       {'id': 'bdbf7dc0-1666-442c-b462-3a9931f08e44',\n        'name': 'In progress',\n        'color': 'orange'},\n       {'id': 'ec9a1062-2383-49f4-b5a6-d2bfb5f34256',\n        'name': 'Focus',\n        'color': 'pink'},\n       {'id': '43bfb82c-22a5-4345-9432-c2007a050d23',\n        'name': 'Todo',\n        'color': 'purple'}]}},\n    'C_Date': {'id': 'AZEp', 'name': 'C_Date', 'type': 'date', 'date': {}},\n    'Rel_Original Notes': {'id': 'Bo%7Bu',\n     'name': 'Rel_Original Notes',\n     'type': 'relation',\n     'relation': {'database_id': '8f782a80-888f-4342-b8b9-4e8c52de8f30',\n      'synced_property_name': 'C_Origin',\n      'synced_property_id': '``{F'}},\n    'Rel_Exposed Bookmarks': {'id': 'Di%40f',\n     'name': 'Rel_Exposed Bookmarks',\n     'type': 'relation',\n     'relation': {'database_id': 'bd084192-4989-4714-a10b-6b2051a5d5c4',\n      'synced_property_name': 'C_Expose to',\n      'synced_property_id': 'x{ei'}},\n    'C_Edited': {'id': 'Ghph',\n     'name': 'C_Edited',\n     'type': 'last_edited_time',\n     'last_edited_time': {}},\n    'C_Origin': {'id': 'Gxvs',\n     'name': 'C_Origin',\n     'type': 'relation',\n     'relation': {'database_id': '2290411c-4368-4847-9b48-26e63d740c63',\n      'synced_property_name': 'C_Origin',\n      'synced_property_id': 'Gxvs'}},\n    'Rel_Exposed Notes': {'id': 'MIs%5E',\n     'name': 'Rel_Exposed Notes',\n     'type': 'relation',\n     'relation': {'database_id': '8f782a80-888f-4342-b8b9-4e8c52de8f30',\n      'synced_property_name': 'C_Expose to',\n      'synced_property_id': '{qAR'}},\n    'SC_Sorted_Disposable': {'id': 'Q~%5C%5B',\n     'name': 'SC_Sorted_Disposable',\n     'type': 'checkbox',\n     'checkbox': {}},\n    'C_Archive': {'id': 'V%5DQY',\n     'name': 'C_Archive',\n     'type': 'checkbox',\n     'checkbox': {}},\n    'Rel_Original Bookmarks': {'id': '%60UJZ',\n     'name': 'Rel_Original Bookmarks',\n     'type': 'relation',\n     'relation': {'database_id': 'bd084192-4989-4714-a10b-6b2051a5d5c4',\n      'synced_property_name': 'C_Origin',\n      'synced_property_id': 'l^|r'}},\n    'C_Expose to': {'id': 'aOi_',\n     'name': 'C_Expose to',\n     'type': 'relation',\n     'relation': {'database_id': '2290411c-4368-4847-9b48-26e63d740c63',\n      'synced_property_name': 'C_Expose to',\n      'synced_property_id': 'aOi_'}},\n    'S_Priority': {'id': 'h%3AI%5E',\n     'name': 'S_Priority',\n     'type': 'select',\n     'select': {'options': [{'id': '0c601633-1335-4c1c-9c63-efdacb08ec51',\n        'name': '1 - Lowest',\n        'color': 'red'},\n       {'id': '091e8bb9-b083-4eea-b2f5-88bfd1a5fb27',\n        'name': '2 - Low',\n        'color': 'orange'},\n       {'id': '692a369a-7394-45d2-ab7d-37d5d18cc793',\n        'name': '3 - Medium',\n        'color': 'blue'},\n       {'id': '8a81e86e-4e6d-45da-a32c-af8a3298cae7',\n        'name': '4 - High',\n        'color': 'gray'},\n       {'id': 'ff482b9f-069f-4ec7-8503-e8211fbcf42b',\n        'name': '5 - Highest',\n        'color': 'default'}]}},\n    'C_Subtype': {'id': 'jag%5D',\n     'name': 'C_Subtype',\n     'type': 'select',\n     'select': {'options': [{'id': '9a906874-7aab-4566-a6dd-7a2c7beedafa',\n        'name': 'Area',\n        'color': 'pink'}]}},\n    'C_Created': {'id': 'wCGR',\n     'name': 'C_Created',\n     'type': 'created_time',\n     'created_time': {}},\n    'C_Type': {'id': 'x%60%5DW',\n     'name': 'C_Type',\n     'type': 'select',\n     'select': {'options': [{'id': 'fc\\\\a',\n        'name': 'Disposable',\n        'color': 'yellow'},\n       {'id': '<Usl', 'name': 'Idea', 'color': 'purple'},\n       {'id': '72d2927c-3e6c-48f8-bd6f-787e8c0b6cc6',\n        'name': 'Todo',\n        'color': 'green'},\n       {'id': '14885840-2516-4788-bbd9-03e7c3088117',\n        'name': 'Context/Project',\n        'color': 'pink'},\n       {'id': 'e3273a77-1b6f-4c53-8d26-662b2b629027',\n        'name': 'App/Process',\n        'color': 'gray'}]}},\n    'S_Area': {'id': '%7Dn%5B%3B',\n     'name': 'S_Area',\n     'type': 'select',\n     'select': {'options': [{'id': 'ccc71352-b90e-474a-8807-439528967095',\n        'name': 'Home',\n        'color': 'blue'},\n       {'id': '47bc356a-4748-4c67-846a-d48b04948f48',\n        'name': 'Work',\n        'color': 'brown'},\n       {'id': 'b245394f-74e8-4791-8d5f-4195917b758e',\n        'name': 'Wellbeing',\n        'color': 'pink'},\n       {'id': 'ade4fc2a-b575-4d4d-b575-63c35da255a3',\n        'name': 'For Others',\n        'color': 'green'},\n       {'id': '2434433f-8a18-485a-909d-d8c92a01317d',\n        'name': 'Meta',\n        'color': 'orange'},\n       {'id': '643a745f-8a39-4117-b2fa-ef76eea32798',\n        'name': 'Life',\n        'color': 'yellow'},\n       {'id': 'cbceb019-a686-4d6d-9df9-e7c57f88b125',\n        'name': 'Unclear',\n        'color': 'gray'}]}},\n    'Name': {'id': 'title', 'name': 'Name', 'type': 'title', 'title': {}}},\n   'parent': {'type': 'page_id',\n    'page_id': '2d68097a-396a-4419-a35c-2f98e0eeab12'},\n   'url': 'https://www.notion.so/2290411c436848479b4826e63d740c63',\n   'archived': False}],\n 'next_cursor': None,\n 'has_more': False,\n 'type': 'page_or_database',\n 'page_or_database': {}}"
     },
     "execution_count": 9,
     "metadata": {},
     "output_type": "execute_result"
    }
   ],
   "source": [
    "n.client.search(query=\"DB_todos\")"
   ],
   "metadata": {
    "collapsed": false,
    "pycharm": {
     "name": "#%%\n"
    }
   }
  },
  {
   "cell_type": "code",
   "execution_count": 4,
   "outputs": [],
   "source": [
    "n.client.search?\n",
    "https://developers.notion.com/reference/post-search"
   ],
   "metadata": {
    "collapsed": false,
    "pycharm": {
     "name": "#%%\n"
    }
   }
  },
  {
   "cell_type": "code",
   "execution_count": 1,
   "outputs": [
    {
     "ename": "NameError",
     "evalue": "name 'n' is not defined",
     "output_type": "error",
     "traceback": [
      "\u001B[0;31m---------------------------------------------------------------------------\u001B[0m",
      "\u001B[0;31mNameError\u001B[0m                                 Traceback (most recent call last)",
      "\u001B[0;32m/var/folders/fk/k694k5yn3gv3kpgkrt2ftkyc0000gn/T/ipykernel_54155/9902742.py\u001B[0m in \u001B[0;36m<module>\u001B[0;34m\u001B[0m\n\u001B[0;32m----> 1\u001B[0;31m \u001B[0mn\u001B[0m\u001B[0;34m.\u001B[0m\u001B[0mclient\u001B[0m\u001B[0;34m.\u001B[0m\u001B[0mpages\u001B[0m\u001B[0;34m.\u001B[0m\u001B[0mretrieve\u001B[0m\u001B[0;34m(\u001B[0m\u001B[0;34m\"7dbadc6c39e04ad4ac61b3fc92b60111\"\u001B[0m\u001B[0;34m)\u001B[0m\u001B[0;34m\u001B[0m\u001B[0;34m\u001B[0m\u001B[0m\n\u001B[0m",
      "\u001B[0;31mNameError\u001B[0m: name 'n' is not defined"
     ]
    }
   ],
   "source": [
    "n.client.pages.retrieve(\"7dbadc6c39e04ad4ac61b3fc92b60111\")"
   ],
   "metadata": {
    "collapsed": false,
    "pycharm": {
     "name": "#%%\n"
    }
   }
  },
  {
   "cell_type": "code",
   "execution_count": 11,
   "outputs": [
    {
     "data": {
      "text/plain": "{'object': 'database',\n 'id': '2290411c-4368-4847-9b48-26e63d740c63',\n 'cover': None,\n 'icon': {'type': 'emoji', 'emoji': '💨'},\n 'created_time': '2022-04-03T15:40:00.000Z',\n 'created_by': {'object': 'user',\n  'id': 'd0643a1e-565f-436c-9f25-e153ed140d34'},\n 'last_edited_by': {'object': 'user',\n  'id': 'd0643a1e-565f-436c-9f25-e153ed140d34'},\n 'last_edited_time': '2022-06-15T16:59:00.000Z',\n 'title': [{'type': 'text',\n   'text': {'content': 'DB_Todos', 'link': None},\n   'annotations': {'bold': False,\n    'italic': False,\n    'strikethrough': False,\n    'underline': False,\n    'code': False,\n    'color': 'default'},\n   'plain_text': 'DB_Todos',\n   'href': None}],\n 'description': [],\n 'properties': {'PM_Context': {'id': '%3DgTh',\n   'name': 'PM_Context',\n   'type': 'relation',\n   'relation': {'database_id': '2290411c-4368-4847-9b48-26e63d740c63',\n    'synced_property_name': 'PM_Context',\n    'synced_property_id': '=gTh'}},\n  'S_Status': {'id': '%3E%7DMG',\n   'name': 'S_Status',\n   'type': 'select',\n   'select': {'options': [{'id': '08225dd6-59b2-4851-85c6-d95a4d5d0dda',\n      'name': 'Cancelled',\n      'color': 'blue'},\n     {'id': '9b478edd-c304-4075-a487-150643b102f3',\n      'name': 'Done',\n      'color': 'red'},\n     {'id': 'bdbf7dc0-1666-442c-b462-3a9931f08e44',\n      'name': 'In progress',\n      'color': 'orange'},\n     {'id': 'ec9a1062-2383-49f4-b5a6-d2bfb5f34256',\n      'name': 'Focus',\n      'color': 'pink'},\n     {'id': '43bfb82c-22a5-4345-9432-c2007a050d23',\n      'name': 'Todo',\n      'color': 'purple'}]}},\n  'C_Date': {'id': 'AZEp', 'name': 'C_Date', 'type': 'date', 'date': {}},\n  'Rel_Original Notes': {'id': 'Bo%7Bu',\n   'name': 'Rel_Original Notes',\n   'type': 'relation',\n   'relation': {'database_id': '8f782a80-888f-4342-b8b9-4e8c52de8f30',\n    'synced_property_name': 'C_Origin',\n    'synced_property_id': '``{F'}},\n  'Rel_Exposed Bookmarks': {'id': 'Di%40f',\n   'name': 'Rel_Exposed Bookmarks',\n   'type': 'relation',\n   'relation': {'database_id': 'bd084192-4989-4714-a10b-6b2051a5d5c4',\n    'synced_property_name': 'C_Expose to',\n    'synced_property_id': 'x{ei'}},\n  'C_Edited': {'id': 'Ghph',\n   'name': 'C_Edited',\n   'type': 'last_edited_time',\n   'last_edited_time': {}},\n  'C_Origin': {'id': 'Gxvs',\n   'name': 'C_Origin',\n   'type': 'relation',\n   'relation': {'database_id': '2290411c-4368-4847-9b48-26e63d740c63',\n    'synced_property_name': 'C_Origin',\n    'synced_property_id': 'Gxvs'}},\n  'Rel_Exposed Notes': {'id': 'MIs%5E',\n   'name': 'Rel_Exposed Notes',\n   'type': 'relation',\n   'relation': {'database_id': '8f782a80-888f-4342-b8b9-4e8c52de8f30',\n    'synced_property_name': 'C_Expose to',\n    'synced_property_id': '{qAR'}},\n  'SC_Sorted_Disposable': {'id': 'Q~%5C%5B',\n   'name': 'SC_Sorted_Disposable',\n   'type': 'checkbox',\n   'checkbox': {}},\n  'C_Archive': {'id': 'V%5DQY',\n   'name': 'C_Archive',\n   'type': 'checkbox',\n   'checkbox': {}},\n  'Rel_Original Bookmarks': {'id': '%60UJZ',\n   'name': 'Rel_Original Bookmarks',\n   'type': 'relation',\n   'relation': {'database_id': 'bd084192-4989-4714-a10b-6b2051a5d5c4',\n    'synced_property_name': 'C_Origin',\n    'synced_property_id': 'l^|r'}},\n  'C_Expose to': {'id': 'aOi_',\n   'name': 'C_Expose to',\n   'type': 'relation',\n   'relation': {'database_id': '2290411c-4368-4847-9b48-26e63d740c63',\n    'synced_property_name': 'C_Expose to',\n    'synced_property_id': 'aOi_'}},\n  'S_Priority': {'id': 'h%3AI%5E',\n   'name': 'S_Priority',\n   'type': 'select',\n   'select': {'options': [{'id': '0c601633-1335-4c1c-9c63-efdacb08ec51',\n      'name': '1 - Lowest',\n      'color': 'red'},\n     {'id': '091e8bb9-b083-4eea-b2f5-88bfd1a5fb27',\n      'name': '2 - Low',\n      'color': 'orange'},\n     {'id': '692a369a-7394-45d2-ab7d-37d5d18cc793',\n      'name': '3 - Medium',\n      'color': 'blue'},\n     {'id': '8a81e86e-4e6d-45da-a32c-af8a3298cae7',\n      'name': '4 - High',\n      'color': 'gray'},\n     {'id': 'ff482b9f-069f-4ec7-8503-e8211fbcf42b',\n      'name': '5 - Highest',\n      'color': 'default'}]}},\n  'C_Subtype': {'id': 'jag%5D',\n   'name': 'C_Subtype',\n   'type': 'select',\n   'select': {'options': [{'id': '9a906874-7aab-4566-a6dd-7a2c7beedafa',\n      'name': 'Area',\n      'color': 'pink'}]}},\n  'C_Created': {'id': 'wCGR',\n   'name': 'C_Created',\n   'type': 'created_time',\n   'created_time': {}},\n  'C_Type': {'id': 'x%60%5DW',\n   'name': 'C_Type',\n   'type': 'select',\n   'select': {'options': [{'id': 'fc\\\\a',\n      'name': 'Disposable',\n      'color': 'yellow'},\n     {'id': '<Usl', 'name': 'Idea', 'color': 'purple'},\n     {'id': '72d2927c-3e6c-48f8-bd6f-787e8c0b6cc6',\n      'name': 'Todo',\n      'color': 'green'},\n     {'id': '14885840-2516-4788-bbd9-03e7c3088117',\n      'name': 'Context/Project',\n      'color': 'pink'},\n     {'id': 'e3273a77-1b6f-4c53-8d26-662b2b629027',\n      'name': 'App/Process',\n      'color': 'gray'}]}},\n  'S_Area': {'id': '%7Dn%5B%3B',\n   'name': 'S_Area',\n   'type': 'select',\n   'select': {'options': [{'id': 'ccc71352-b90e-474a-8807-439528967095',\n      'name': 'Home',\n      'color': 'blue'},\n     {'id': '47bc356a-4748-4c67-846a-d48b04948f48',\n      'name': 'Work',\n      'color': 'brown'},\n     {'id': 'b245394f-74e8-4791-8d5f-4195917b758e',\n      'name': 'Wellbeing',\n      'color': 'pink'},\n     {'id': 'ade4fc2a-b575-4d4d-b575-63c35da255a3',\n      'name': 'For Others',\n      'color': 'green'},\n     {'id': '2434433f-8a18-485a-909d-d8c92a01317d',\n      'name': 'Meta',\n      'color': 'orange'},\n     {'id': '643a745f-8a39-4117-b2fa-ef76eea32798',\n      'name': 'Life',\n      'color': 'yellow'},\n     {'id': 'cbceb019-a686-4d6d-9df9-e7c57f88b125',\n      'name': 'Unclear',\n      'color': 'gray'}]}},\n  'Name': {'id': 'title', 'name': 'Name', 'type': 'title', 'title': {}}},\n 'parent': {'type': 'page_id',\n  'page_id': '2d68097a-396a-4419-a35c-2f98e0eeab12'},\n 'url': 'https://www.notion.so/2290411c436848479b4826e63d740c63',\n 'archived': False}"
     },
     "execution_count": 11,
     "metadata": {},
     "output_type": "execute_result"
    }
   ],
   "source": [
    "n.client.databases.retrieve(\"2290411c-4368-4847-9b48-26e63d740c63\")"
   ],
   "metadata": {
    "collapsed": false,
    "pycharm": {
     "name": "#%%\n"
    }
   }
  },
  {
   "cell_type": "code",
   "execution_count": null,
   "outputs": [],
   "source": [],
   "metadata": {
    "collapsed": false,
    "pycharm": {
     "name": "#%%\n"
    }
   }
  }
 ],
 "metadata": {
  "kernelspec": {
   "display_name": "Python 3",
   "language": "python",
   "name": "python3"
  },
  "language_info": {
   "codemirror_mode": {
    "name": "ipython",
    "version": 2
   },
   "file_extension": ".py",
   "mimetype": "text/x-python",
   "name": "python",
   "nbconvert_exporter": "python",
   "pygments_lexer": "ipython2",
   "version": "2.7.6"
  }
 },
 "nbformat": 4,
 "nbformat_minor": 0
}